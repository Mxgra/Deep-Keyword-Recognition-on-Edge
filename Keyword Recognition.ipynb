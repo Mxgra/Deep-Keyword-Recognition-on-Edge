{
 "cells": [
  {
   "cell_type": "code",
   "execution_count": 3,
   "metadata": {},
   "outputs": [
    {
     "name": "stdout",
     "output_type": "stream",
     "text": [
      "True\n"
     ]
    }
   ],
   "source": [
    "# virtualenv check\n",
    "import sys\n",
    "\n",
    "def get_base_prefix_compat():\n",
    "    \"\"\"Get base/real prefix, or sys.prefix if there is none.\"\"\"\n",
    "    return getattr(sys, \"base_prefix\", None) or getattr(sys, \"real_prefix\", None) or sys.prefix\n",
    "\n",
    "def in_virtualenv():\n",
    "    return get_base_prefix_compat() != sys.prefix\n",
    "\n",
    "print(in_virtualenv())"
   ]
  },
  {
   "cell_type": "markdown",
   "metadata": {},
   "source": [
    "# Greetings!\n",
    "\n",
    "## Simple Keyword Recognition and Quantization for Microcontrollers\n",
    "\n",
    "This notebook serves as a simple showcase and tutorial on how to train a rudimentary speech-recognition neural network. Because there are already good guides on this topic, we'll add a little \"edge\" to it (heh) by venturing into the territory of microcontrollers and tpu. Here, size matters, for which tensorflow handily offers the tensorflow lite library. With functions to convert normal keras models to their lite versions, we'll see how this affects size and performance.\n",
    "\n",
    "To keep training times low and model size small, we'll focus on keywords (often times also called wakewords like \"Hey Siri\"), meaning short utterances like \"on\" and \"off\".\n",
    "\n",
    "Our final goal will be to deploy our model on a google coral tensor processing unit (tpu). As mentioned, for this project we'll use the tensorflow framework. This will also make the model creation, paramter searching and training a breeze. On top of that, tensorflow has strong deployment options.\n",
    "\n",
    "This notebook concerns only the dataset, neural network, training and testing pipelines and the conversion to lite. Another notebook will cover model deployment in an end-to-end system on a raspberry pi with connected tpu.\n",
    "\n",
    "### Content\n",
    "- Tensorflow Datasets\n",
    "- Preprocessing\n",
    "    - Feature Extraction\n",
    "    - Input Pipeline\n",
    "- Neural Network\n",
    "- Training\n",
    "- Testing\n",
    "- Tf-Lite Conversion and Quantization"
   ]
  },
  {
   "cell_type": "code",
   "execution_count": 1,
   "metadata": {},
   "outputs": [],
   "source": [
    "# Imports\n",
    "\n",
    "import tensorflow as tf\n",
    "import tensorflow_datasets as tfds\n"
   ]
  },
  {
   "cell_type": "markdown",
   "metadata": {},
   "source": [
    "## Tensorflow Datasets\n",
    "\n",
    "Tensorflow datasets (tfds) are a quick way of acquiring data. The dataset object comes with a multitude of methods to transform the data and serve it to the model. It also conviently displays info about the dataset."
   ]
  },
  {
   "cell_type": "code",
   "execution_count": 2,
   "metadata": {},
   "outputs": [],
   "source": [
    "dataset_name = \"speech_commands\"\n",
    "\n",
    "\n",
    "speech_builder = tfds.builder(dataset_name)\n",
    "\n"
   ]
  },
  {
   "cell_type": "code",
   "execution_count": 3,
   "metadata": {},
   "outputs": [
    {
     "name": "stdout",
     "output_type": "stream",
     "text": [
      "gtzan_music_speech\n",
      "librispeech\n",
      "librispeech_lm\n",
      "ljspeech\n",
      "speech_commands\n",
      "tfds.core.DatasetInfo(\n",
      "    name='speech_commands',\n",
      "    version=0.0.2,\n",
      "    description='An audio dataset of spoken words designed to help train and evaluate keyword\n",
      "spotting systems. Its primary goal is to provide a way to build and test small\n",
      "models that detect when a single word is spoken, from a set of ten target words,\n",
      "with as few false positives as possible from background noise or unrelated\n",
      "speech. Note that in the train and validation set, the label \"unknown\" is much\n",
      "more prevalent than the labels of the target words or background noise.\n",
      "One difference from the release version is the handling of silent segments.\n",
      "While in the test set the silence segments are regular 1 second files, in the\n",
      "training they are provided as long segments under \"background_noise\" folder.\n",
      "Here we split these background noise into 1 second clips, and also keep one of\n",
      "the files for the validation set.',\n",
      "    homepage='https://arxiv.org/abs/1804.03209',\n",
      "    features=FeaturesDict({\n",
      "        'audio': Audio(shape=(None,), dtype=tf.int64),\n",
      "        'label': ClassLabel(shape=(), dtype=tf.int64, num_classes=12),\n",
      "    }),\n",
      "    total_num_examples=100503,\n",
      "    splits={\n",
      "        'test': 4890,\n",
      "        'train': 85511,\n",
      "        'validation': 10102,\n",
      "    },\n",
      "    supervised_keys=('audio', 'label'),\n",
      "    citation=\"\"\"@article{speechcommandsv2,\n",
      "       author = {{Warden}, P.},\n",
      "        title = \"{Speech Commands: A Dataset for Limited-Vocabulary Speech Recognition}\",\n",
      "      journal = {ArXiv e-prints},\n",
      "      archivePrefix = \"arXiv\",\n",
      "      eprint = {1804.03209},\n",
      "      primaryClass = \"cs.CL\",\n",
      "      keywords = {Computer Science - Computation and Language, Computer Science - Human-Computer Interaction},\n",
      "        year = 2018,\n",
      "        month = apr,\n",
      "        url = {https://arxiv.org/abs/1804.03209},\n",
      "    }\"\"\",\n",
      "    redistribution_info=,\n",
      ")\n",
      "\n"
     ]
    }
   ],
   "source": [
    "\"\"\"!!! DOWNLOAD WARNING !!!\n",
    "\n",
    "This cells downloads the speech commands dataset. Will not download twice, if it detects an already\n",
    "downloaded version.\n",
    "\n",
    "\"\"\"\n",
    "\n",
    "# looking for speech commands dataset in all available datasets...\n",
    "for ele in tfds.list_builders():\n",
    "    if \"speech\" in ele:\n",
    "        print(ele)\n",
    "\n",
    "dataset_name = \"speech_commands\"\n",
    "\n",
    "# instantiate a dataset builder (see tensorflow dataset builder)\n",
    "speech_builder = tfds.builder(dataset_name)\n",
    "print(speech_builder.info)\n",
    "\n",
    "# download data into existing data folder\n",
    "speech_builder.download_and_prepare()\n"
   ]
  },
  {
   "cell_type": "code",
   "execution_count": 7,
   "metadata": {},
   "outputs": [
    {
     "name": "stdout",
     "output_type": "stream",
     "text": [
      "Labels are:\n",
      "['down', 'go', 'left', 'no', 'off', 'on', 'right', 'stop', 'up', 'yes', '_silence_', '_unknown_']\n",
      "\n",
      "Lets look directly at the first element of the dataset.\n",
      "Because it is a <class 'tensorflow.python.data.ops.dataset_ops.PrefetchDataset'>,we need to iterate through it in order to actually load elements.\n",
      "\n",
      "The dataset consists of:  <class 'tuple'>\n",
      "How does a label object look like:  tf.Tensor(7, shape=(), dtype=int64)\n",
      "How does a audio object look like:  tf.Tensor([  -1   -2   -2 ... -136 -170 -203], shape=(16000,), dtype=int64)\n"
     ]
    }
   ],
   "source": [
    "\"\"\"Get some info from the builder about the dataset\"\"\"\n",
    "builder_info = speech_builder.info\n",
    "num_labels = builder_info.features['label'].num_classes\n",
    "label_list = builder_info.features['label'].names\n",
    "\n",
    "\"\"\"Not we actually acquire the dataset object. As supervised gives us a dataset of tuples: data and label\"\"\"\n",
    "data = speech_builder.as_dataset(as_supervised=True)\n",
    "\n",
    "assert isinstance(data, dict)\n",
    "\n",
    "print(\"Labels are:\\n{}\\n\".format(label_list))\n",
    "\n",
    "test_set = data['test']\n",
    "train_set = data['train']\n",
    "validation_set = data['validation']\n",
    "\n",
    "# I've got these numbers by simple iterating through the datasets, but I'm sure there's a more elegant way\n",
    "test_set_size = 4890\n",
    "train_set_size = 85511\n",
    "validation_set_size = 10102\n",
    "\n",
    "print(\"Lets look directly at the first element of the dataset.\\nBecause it is a {},\\\n",
    "we need to iterate through it in order to actually load elements.\\n\".format(type(test_set)))\n",
    "for thing in test_set:\n",
    "    print(\"The dataset consists of: \", type(thing))\n",
    "    \n",
    "    print(\"How does a label object look like: \", thing[1])\n",
    "    print(\"How does a audio object look like: \", thing[0])\n",
    "    break"
   ]
  },
  {
   "cell_type": "code",
   "execution_count": 48,
   "metadata": {},
   "outputs": [],
   "source": [
    "def count_ents(dataset):\n",
    "    \"\"\"Counts entities of a given dataset, returns them as dict(labels, count)\"\"\"\n",
    "    result = {}\n",
    "    for thing in dataset:\n",
    "        label = thing[1].numpy()\n",
    "        #print(label)\n",
    "        #break\n",
    "        if(label in result):\n",
    "            result[label] += 1\n",
    "        else:\n",
    "            result[label] = 1\n",
    "    return result\n",
    "\n",
    "def make_plot(entity_count_dict, label_list):\n",
    "    \"\"\"Converts a dict of entity counts to a list, then plots them with the corresponded labels\"\"\"\n",
    "    fig = plt.figure()\n",
    "    ax = fig.add_axes([0,0,1,1])\n",
    "    # make a distribution\n",
    "    dist = [entity_count_dict[x] for x in range(len(label_list))]\n",
    "    ax.bar(label_list, dist)\n",
    "    plt.show"
   ]
  },
  {
   "cell_type": "code",
   "execution_count": 49,
   "metadata": {},
   "outputs": [
    {
     "data": {
      "image/png": "[encoded data removed]",
      "text/plain": [
       "<Figure size 432x288 with 1 Axes>"
      ]
     },
     "metadata": {
      "needs_background": "light"
     },
     "output_type": "display_data"
    },
    {
     "data": {
      "image/png": "[encoded data removed]",
      "text/plain": [
       "<Figure size 432x288 with 1 Axes>"
      ]
     },
     "metadata": {
      "needs_background": "light"
     },
     "output_type": "display_data"
    },
    {
     "data": {
      "image/png": "[encoded data removed]",
      "text/plain": [
       "<Figure size 432x288 with 1 Axes>"
      ]
     },
     "metadata": {
      "needs_background": "light"
     },
     "output_type": "display_data"
    }
   ],
   "source": [
    "#!pip install matplotlib\n",
    "import matplotlib.pyplot as plt\n",
    "\n",
    "\"\"\"Get the distributions of commands as a dictionary\"\"\"\n",
    "train_dist = count_ents(train_set)\n",
    "test_dist = count_ents(test_set)\n",
    "validation_dist = count_ents(validation_set)\n",
    "\n",
    "langs = ['down', 'go', 'left', 'no', 'off', 'on', 'right', 'stop', 'up', 'yes', '_silence_', '_unknown_']\n",
    "\n",
    "\"\"\"Plot the data\"\"\"\n",
    "make_plot(train_dist, langs)\n",
    "make_plot(test_dist, langs)\n",
    "make_plot(validation_dist, langs)\n"
   ]
  },
  {
   "cell_type": "markdown",
   "metadata": {},
   "source": [
    "We see that for the validaiton and training sets, \"unknown\" labeled files are present in a much higher number than the desired keywords. This of course makes sense for a keyword recognition system, where most oft the times speech unrelated to our commands is spoken. A system needs to confidently recognize unrelated speech. \n",
    "\n",
    "In order to make difference in the actual commands more visible, we now exclude the \"unknown\" label from our plot and arrive at a better representation of our data. We see that all words have a rather same frequency:"
   ]
  },
  {
   "cell_type": "code",
   "execution_count": 9,
   "metadata": {},
   "outputs": [
    {
     "data": {
      "image/png": "[encoded data removed]",
      "text/plain": [
       "<Figure size 432x288 with 1 Axes>"
      ]
     },
     "metadata": {
      "needs_background": "light"
     },
     "output_type": "display_data"
    },
    {
     "data": {
      "image/png": "[encoded data removed]",
      "text/plain": [
       "<Figure size 432x288 with 1 Axes>"
      ]
     },
     "metadata": {
      "needs_background": "light"
     },
     "output_type": "display_data"
    },
    {
     "data": {
      "image/png": "[encoded data removed]",
      "text/plain": [
       "<Figure size 432x288 with 1 Axes>"
      ]
     },
     "metadata": {
      "needs_background": "light"
     },
     "output_type": "display_data"
    }
   ],
   "source": [
    "langs = ['down', 'go', 'left', 'no', 'off', 'on', 'right', 'stop', 'up', 'yes', '_silence_']\n",
    "\n",
    "make_plot(train_dist, langs)\n",
    "make_plot(test_dist, langs)\n",
    "make_plot(validation_dist, langs)"
   ]
  },
  {
   "cell_type": "markdown",
   "metadata": {},
   "source": [
    "## Preprocessing\n",
    "\n",
    "Before fitting any model, we need to look at our data and preprocess it, in order to make it actually usuable.\n",
    "\n",
    "### Feature Extraction\n",
    "#### Data\n",
    "While raw visual data (eg. rgb pictures) already have enough information for a model to learn from, working with audio requires an additional step: feature extraction. There are attempts to use raw audio data in deep neural networks, but current state of the art systems for speech recognition often use specialized features that are computed from the raw audio signal: mel frequency cepstral coefficents. \n",
    "\n",
    "There are audio libaries like librosa that make the extraction rather easy, but because we're working with tensorflow Datasets it's best to stay in its context (otherwise we would've to jump a couple of hurdles because of the way tfds and especially PrefetchDatasets work and trust me, we dont want to do that here...). We find an example how to extract mfcc working with tensorflow tools in the official documentation. Simply pack it into a function (fingers crossed it's working correctly) for later use.\n",
    "\n",
    "\n",
    "#### Labels\n",
    "Because we use sparse categorical entropy loss, there's no need to convert our integer labels to a one hot encoding. If we want to use another loss function, we could make use of a tensorflow function: tf.one_hot.\n",
    "\n"
   ]
  },
  {
   "cell_type": "code",
   "execution_count": 12,
   "metadata": {},
   "outputs": [],
   "source": [
    "def make_mfccs(audio, labels):\n",
    "    \n",
    "    FRAME_RATE = 16000\n",
    "    \n",
    "    stfts = tf.signal.stft(tf.cast(audio, tf.float32), frame_length=1024, frame_step=256,\n",
    "                       fft_length=1024)\n",
    "    \n",
    "    spectrograms = tf.abs(stfts)\n",
    "\n",
    "    # Warp the linear scale spectrograms into the mel-scale.\n",
    "    num_spectrogram_bins = stfts.shape[-1]\n",
    "    lower_edge_hertz, upper_edge_hertz, num_mel_bins = 80.0, 7600.0, 80\n",
    "    linear_to_mel_weight_matrix = tf.signal.linear_to_mel_weight_matrix(num_mel_bins, num_spectrogram_bins,\n",
    "                                                                        FRAME_RATE, lower_edge_hertz,\n",
    "                                                                        upper_edge_hertz)\n",
    "    \n",
    "    mel_spectrograms = tf.tensordot(spectrograms, linear_to_mel_weight_matrix, 1)\n",
    "    \n",
    "    mel_spectrograms.set_shape(spectrograms.shape[:-1].concatenate(linear_to_mel_weight_matrix.shape[-1:]))\n",
    "\n",
    "    # Compute a stabilized log to get log-magnitude mel-scale spectrograms.\n",
    "    log_mel_spectrograms = tf.math.log(mel_spectrograms + 1e-6)\n",
    "\n",
    "    # Compute MFCCs from log_mel_spectrograms and take the first 13.\n",
    "    # You can use other parts, or even all of the MFCCs, to test around how it affect the accuracy\n",
    "    mfcc = tf.signal.mfccs_from_log_mel_spectrograms(log_mel_spectrograms)[..., :13]\n",
    "    \n",
    "    # Finally add depth to the mfcc tensors, our Conv2D-Model requires this.\n",
    "    #mfcc = tf.expand_dims(mfcc, -1)\n",
    "    \n",
    "    return mfcc, labels\n",
    "\n"
   ]
  },
  {
   "cell_type": "markdown",
   "metadata": {},
   "source": [
    "### Input Pipeline\n",
    "\n",
    "While we now have a method to extract mfccs, we need to incorporate it into our input- or data-pipeline. This describes the process of how we feed our data into the model. We want to only work on batches on data (size of a batch can influence model learning) and of course extract our features. We also want to shuffle the data, improving generalization of out model.\n",
    "\n",
    "We can do all this by directly calling methods of our dataset. While it takes a little time getting used to and finding the correct parameters, the result is clean and straight forward."
   ]
  },
  {
   "cell_type": "code",
   "execution_count": 13,
   "metadata": {},
   "outputs": [
    {
     "data": {
      "text/plain": [
       "38.203125"
      ]
     },
     "execution_count": 13,
     "metadata": {},
     "output_type": "execute_result"
    }
   ],
   "source": [
    "4890/128"
   ]
  },
  {
   "cell_type": "code",
   "execution_count": 14,
   "metadata": {},
   "outputs": [],
   "source": [
    "dataset_train = train_set.map(make_mfccs\n",
    "                             ).shuffle(train_set_size\n",
    "                             ).padded_batch(128\n",
    "                             ).prefetch(tf.data.experimental.AUTOTUNE)\n",
    "\n",
    "dataset_test = test_set.map(make_mfccs\n",
    "                           ).padded_batch(128\n",
    "                           ).prefetch(tf.data.experimental.AUTOTUNE)\n",
    "\n",
    "dataset_validation = validation_set.map(make_mfccs\n",
    "                                       ).padded_batch(128\n",
    "                                       ).prefetch(tf.data.experimental.AUTOTUNE)\n",
    "\n",
    "\n",
    "\n",
    "\n"
   ]
  },
  {
   "cell_type": "markdown",
   "metadata": {},
   "source": [
    "## Neural Network\n",
    "\n",
    "Because we're limited through our use of tensorflow lite, but also because we want to keep it simple, we use a rather simple composition of layers for our neural network. \n",
    "\n",
    "Following the standards, we use 1D-convolutional layers to highlight important features. As regulations batchnormalization layers are used and rectified liniear units as activation functions. Finally a pooling layer builds the end of one layer-block."
   ]
  },
  {
   "cell_type": "code",
   "execution_count": 32,
   "metadata": {},
   "outputs": [
    {
     "name": "stdout",
     "output_type": "stream",
     "text": [
      "Model: \"sequential\"\n",
      "_________________________________________________________________\n",
      "Layer (type)                 Output Shape              Param #   \n",
      "=================================================================\n",
      "conv1d (Conv1D)              (None, 57, 128)           5120      \n",
      "_________________________________________________________________\n",
      "conv1d_1 (Conv1D)            (None, 55, 128)           49280     \n",
      "_________________________________________________________________\n",
      "batch_normalization (BatchNo (None, 55, 128)           512       \n",
      "_________________________________________________________________\n",
      "re_lu (ReLU)                 (None, 55, 128)           0         \n",
      "_________________________________________________________________\n",
      "max_pooling1d (MaxPooling1D) (None, 27, 128)           0         \n",
      "_________________________________________________________________\n",
      "conv1d_2 (Conv1D)            (None, 26, 64)            16448     \n",
      "_________________________________________________________________\n",
      "conv1d_3 (Conv1D)            (None, 25, 64)            8256      \n",
      "_________________________________________________________________\n",
      "batch_normalization_1 (Batch (None, 25, 64)            256       \n",
      "_________________________________________________________________\n",
      "re_lu_1 (ReLU)               (None, 25, 64)            0         \n",
      "_________________________________________________________________\n",
      "max_pooling1d_1 (MaxPooling1 (None, 12, 64)            0         \n",
      "_________________________________________________________________\n",
      "conv1d_4 (Conv1D)            (None, 11, 16)            2064      \n",
      "_________________________________________________________________\n",
      "conv1d_5 (Conv1D)            (None, 10, 16)            528       \n",
      "_________________________________________________________________\n",
      "batch_normalization_2 (Batch (None, 10, 16)            64        \n",
      "_________________________________________________________________\n",
      "re_lu_2 (ReLU)               (None, 10, 16)            0         \n",
      "_________________________________________________________________\n",
      "global_average_pooling1d (Gl (None, 16)                0         \n",
      "_________________________________________________________________\n",
      "dense (Dense)                (None, 12)                204       \n",
      "_________________________________________________________________\n",
      "softmax (Softmax)            (None, 12)                0         \n",
      "=================================================================\n",
      "Total params: 82,732\n",
      "Trainable params: 82,316\n",
      "Non-trainable params: 416\n",
      "_________________________________________________________________\n"
     ]
    }
   ],
   "source": [
    "\n",
    "import keras\n",
    "from keras import Sequential\n",
    "from keras.layers import Conv1D, BatchNormalization, ReLU, MaxPooling1D, GlobalAveragePooling1D, Dense, Softmax\n",
    "from kapre.composed import get_melspectrogram_layer, get_log_frequency_spectrogram_layer\n",
    "\n",
    "input_shape = (59,13)\n",
    "\n",
    "model = keras.Sequential()\n",
    "\n",
    "\n",
    "\n",
    "model.add(Conv1D(128, 3, strides=1, input_shape=input_shape))\n",
    "model.add(Conv1D(128, 3, strides=1))\n",
    "model.add(BatchNormalization())\n",
    "model.add(ReLU())\n",
    "model.add(MaxPooling1D(pool_size=2, padding=\"valid\"))\n",
    "\n",
    "model.add(Conv1D(64, 2, strides=1))\n",
    "model.add(Conv1D(64, 2, strides=1))\n",
    "model.add(BatchNormalization())\n",
    "model.add(ReLU())\n",
    "model.add(MaxPooling1D(pool_size=2, padding=\"valid\"))\n",
    "\n",
    "model.add(Conv1D(16, 2, strides=1))\n",
    "model.add(Conv1D(16, 2, strides=1))\n",
    "model.add(BatchNormalization())\n",
    "model.add(ReLU())\n",
    "model.add(GlobalAveragePooling1D())\n",
    "\n",
    "model.add(Dense(num_labels))\n",
    "#model.add(Dense(1))\n",
    "model.add(Softmax())\n",
    "\n",
    "# Compile the model\n",
    "model.compile('adam', 'sparse_categorical_crossentropy', run_eagerly=False)#'categorical_crossentropy', 'mse'\n",
    "model.build()\n",
    "\n",
    "model.summary()"
   ]
  },
  {
   "cell_type": "markdown",
   "metadata": {},
   "source": [
    "## Training\n",
    "\n",
    "Finally we arrive at the training. Because we already did our batching in the dataset-object, we don't really have much else to do here. Of course we still follow standard procedure by using callbacks to stop the training if nothing improved during a period of 10 epochs and saving the model with the best weights.\n",
    "\n",
    "We could, however, further improve training by using a learn rate adaption technique to handle local minimas, adjust the learning rate during training (giving it velocity) and ... RESEARCH HERE\n",
    "\n",
    "It is also a good idea to use something like gridsearch to automate parameter testing, which is however heavily memory expensive.\n",
    "\n",
    "For now, we're content with a simple training loop.\n",
    "\n",
    "Becaus we currently use the simplest way of utilizing tensorflow datasets with a keras model, validation while training is not possible. We would need to build a iterator generator for the dataset. Maybe I'll implement it later..."
   ]
  },
  {
   "cell_type": "code",
   "execution_count": 33,
   "metadata": {
    "scrolled": true
   },
   "outputs": [
    {
     "name": "stdout",
     "output_type": "stream",
     "text": [
      "Epoch 1/200\n",
      "668/669 [============================>.] - ETA: 0s - loss: 1.0303\n",
      "Epoch 00001: loss improved from inf to 1.03029, saving model to model_5.hdf5\n",
      "669/669 [==============================] - 33s 49ms/step - loss: 1.0303\n",
      "Epoch 2/200\n",
      "668/669 [============================>.] - ETA: 0s - loss: 0.4391\n",
      "Epoch 00002: loss improved from 1.03029 to 0.43909, saving model to model_5.hdf5\n",
      "669/669 [==============================] - 37s 56ms/step - loss: 0.4391\n",
      "Epoch 3/200\n",
      "668/669 [============================>.] - ETA: 0s - loss: 0.3085\n",
      "Epoch 00003: loss improved from 0.43909 to 0.30851, saving model to model_5.hdf5\n",
      "669/669 [==============================] - 37s 56ms/step - loss: 0.3085\n",
      "Epoch 4/200\n",
      "668/669 [============================>.] - ETA: 0s - loss: 0.2578\n",
      "Epoch 00004: loss improved from 0.30851 to 0.25776, saving model to model_5.hdf5\n",
      "669/669 [==============================] - 39s 58ms/step - loss: 0.2578\n",
      "Epoch 5/200\n",
      "669/669 [==============================] - ETA: 0s - loss: 0.2320\n",
      "Epoch 00005: loss improved from 0.25776 to 0.23198, saving model to model_5.hdf5\n",
      "669/669 [==============================] - 38s 56ms/step - loss: 0.2320\n",
      "Epoch 6/200\n",
      "668/669 [============================>.] - ETA: 0s - loss: 0.2090\n",
      "Epoch 00006: loss improved from 0.23198 to 0.20895, saving model to model_5.hdf5\n",
      "669/669 [==============================] - 35s 53ms/step - loss: 0.2090\n",
      "Epoch 7/200\n",
      "669/669 [==============================] - ETA: 0s - loss: 0.1933\n",
      "Epoch 00007: loss improved from 0.20895 to 0.19328, saving model to model_5.hdf5\n",
      "669/669 [==============================] - 29s 44ms/step - loss: 0.1933\n",
      "Epoch 8/200\n",
      "668/669 [============================>.] - ETA: 0s - loss: 0.1811\n",
      "Epoch 00008: loss improved from 0.19328 to 0.18113, saving model to model_5.hdf5\n",
      "669/669 [==============================] - 27s 41ms/step - loss: 0.1811\n",
      "Epoch 9/200\n",
      "669/669 [==============================] - ETA: 0s - loss: 0.1713\n",
      "Epoch 00009: loss improved from 0.18113 to 0.17130, saving model to model_5.hdf5\n",
      "669/669 [==============================] - 27s 40ms/step - loss: 0.1713\n",
      "Epoch 10/200\n",
      "669/669 [==============================] - ETA: 0s - loss: 0.1650\n",
      "Epoch 00010: loss improved from 0.17130 to 0.16496, saving model to model_5.hdf5\n",
      "669/669 [==============================] - 27s 41ms/step - loss: 0.1650\n",
      "Epoch 11/200\n",
      "669/669 [==============================] - ETA: 0s - loss: 0.1634\n",
      "Epoch 00011: loss improved from 0.16496 to 0.16344, saving model to model_5.hdf5\n",
      "669/669 [==============================] - 26s 38ms/step - loss: 0.1634\n",
      "Epoch 12/200\n",
      "668/669 [============================>.] - ETA: 0s - loss: 0.1497\n",
      "Epoch 00012: loss improved from 0.16344 to 0.14973, saving model to model_5.hdf5\n",
      "669/669 [==============================] - 29s 44ms/step - loss: 0.1497\n",
      "Epoch 13/200\n",
      "668/669 [============================>.] - ETA: 0s - loss: 0.1451\n",
      "Epoch 00013: loss improved from 0.14973 to 0.14513, saving model to model_5.hdf5\n",
      "669/669 [==============================] - 26s 39ms/step - loss: 0.1451\n",
      "Epoch 14/200\n",
      "668/669 [============================>.] - ETA: 0s - loss: 0.1417\n",
      "Epoch 00014: loss improved from 0.14513 to 0.14175, saving model to model_5.hdf5\n",
      "669/669 [==============================] - 27s 40ms/step - loss: 0.1417\n",
      "Epoch 15/200\n"
     ]
    },
    {
     "ename": "KeyboardInterrupt",
     "evalue": "",
     "output_type": "error",
     "traceback": [
      "\u001b[0;31m---------------------------------------------------------------------------\u001b[0m",
      "\u001b[0;31mKeyboardInterrupt\u001b[0m                         Traceback (most recent call last)",
      "\u001b[0;32m<ipython-input-33-3834bfd45b13>\u001b[0m in \u001b[0;36m<module>\u001b[0;34m\u001b[0m\n\u001b[1;32m     10\u001b[0m                             save_weights_only=False, mode=\"min\",save_freq=\"epoch\",options=None)\n\u001b[1;32m     11\u001b[0m             ]\n\u001b[0;32m---> 12\u001b[0;31m \u001b[0mmodel\u001b[0m\u001b[0;34m.\u001b[0m\u001b[0mfit\u001b[0m\u001b[0;34m(\u001b[0m\u001b[0mdataset_train\u001b[0m\u001b[0;34m,\u001b[0m \u001b[0mepochs\u001b[0m\u001b[0;34m=\u001b[0m\u001b[0;36m200\u001b[0m\u001b[0;34m,\u001b[0m \u001b[0mcallbacks\u001b[0m\u001b[0;34m=\u001b[0m\u001b[0mcallbacks\u001b[0m\u001b[0;34m)\u001b[0m\u001b[0;34m\u001b[0m\u001b[0;34m\u001b[0m\u001b[0m\n\u001b[0m\u001b[1;32m     13\u001b[0m \u001b[0;31m#model.fit(dataset_test, epochs=200, callbacks=callbacks) # this is the test for only int tflite models inference\u001b[0m\u001b[0;34m\u001b[0m\u001b[0;34m\u001b[0m\u001b[0;34m\u001b[0m\u001b[0m\n\u001b[1;32m     14\u001b[0m \u001b[0;34m\u001b[0m\u001b[0m\n",
      "\u001b[0;32m~/.pyenv/versions/keywords2/lib/python3.7/site-packages/tensorflow/python/keras/engine/training.py\u001b[0m in \u001b[0;36m_method_wrapper\u001b[0;34m(self, *args, **kwargs)\u001b[0m\n\u001b[1;32m    106\u001b[0m   \u001b[0;32mdef\u001b[0m \u001b[0m_method_wrapper\u001b[0m\u001b[0;34m(\u001b[0m\u001b[0mself\u001b[0m\u001b[0;34m,\u001b[0m \u001b[0;34m*\u001b[0m\u001b[0margs\u001b[0m\u001b[0;34m,\u001b[0m \u001b[0;34m**\u001b[0m\u001b[0mkwargs\u001b[0m\u001b[0;34m)\u001b[0m\u001b[0;34m:\u001b[0m\u001b[0;34m\u001b[0m\u001b[0;34m\u001b[0m\u001b[0m\n\u001b[1;32m    107\u001b[0m     \u001b[0;32mif\u001b[0m \u001b[0;32mnot\u001b[0m \u001b[0mself\u001b[0m\u001b[0;34m.\u001b[0m\u001b[0m_in_multi_worker_mode\u001b[0m\u001b[0;34m(\u001b[0m\u001b[0;34m)\u001b[0m\u001b[0;34m:\u001b[0m  \u001b[0;31m# pylint: disable=protected-access\u001b[0m\u001b[0;34m\u001b[0m\u001b[0;34m\u001b[0m\u001b[0m\n\u001b[0;32m--> 108\u001b[0;31m       \u001b[0;32mreturn\u001b[0m \u001b[0mmethod\u001b[0m\u001b[0;34m(\u001b[0m\u001b[0mself\u001b[0m\u001b[0;34m,\u001b[0m \u001b[0;34m*\u001b[0m\u001b[0margs\u001b[0m\u001b[0;34m,\u001b[0m \u001b[0;34m**\u001b[0m\u001b[0mkwargs\u001b[0m\u001b[0;34m)\u001b[0m\u001b[0;34m\u001b[0m\u001b[0;34m\u001b[0m\u001b[0m\n\u001b[0m\u001b[1;32m    109\u001b[0m \u001b[0;34m\u001b[0m\u001b[0m\n\u001b[1;32m    110\u001b[0m     \u001b[0;31m# Running inside `run_distribute_coordinator` already.\u001b[0m\u001b[0;34m\u001b[0m\u001b[0;34m\u001b[0m\u001b[0;34m\u001b[0m\u001b[0m\n",
      "\u001b[0;32m~/.pyenv/versions/keywords2/lib/python3.7/site-packages/tensorflow/python/keras/engine/training.py\u001b[0m in \u001b[0;36mfit\u001b[0;34m(self, x, y, batch_size, epochs, verbose, callbacks, validation_split, validation_data, shuffle, class_weight, sample_weight, initial_epoch, steps_per_epoch, validation_steps, validation_batch_size, validation_freq, max_queue_size, workers, use_multiprocessing)\u001b[0m\n\u001b[1;32m   1096\u001b[0m                 batch_size=batch_size):\n\u001b[1;32m   1097\u001b[0m               \u001b[0mcallbacks\u001b[0m\u001b[0;34m.\u001b[0m\u001b[0mon_train_batch_begin\u001b[0m\u001b[0;34m(\u001b[0m\u001b[0mstep\u001b[0m\u001b[0;34m)\u001b[0m\u001b[0;34m\u001b[0m\u001b[0;34m\u001b[0m\u001b[0m\n\u001b[0;32m-> 1098\u001b[0;31m               \u001b[0mtmp_logs\u001b[0m \u001b[0;34m=\u001b[0m \u001b[0mtrain_function\u001b[0m\u001b[0;34m(\u001b[0m\u001b[0miterator\u001b[0m\u001b[0;34m)\u001b[0m\u001b[0;34m\u001b[0m\u001b[0;34m\u001b[0m\u001b[0m\n\u001b[0m\u001b[1;32m   1099\u001b[0m               \u001b[0;32mif\u001b[0m \u001b[0mdata_handler\u001b[0m\u001b[0;34m.\u001b[0m\u001b[0mshould_sync\u001b[0m\u001b[0;34m:\u001b[0m\u001b[0;34m\u001b[0m\u001b[0;34m\u001b[0m\u001b[0m\n\u001b[1;32m   1100\u001b[0m                 \u001b[0mcontext\u001b[0m\u001b[0;34m.\u001b[0m\u001b[0masync_wait\u001b[0m\u001b[0;34m(\u001b[0m\u001b[0;34m)\u001b[0m\u001b[0;34m\u001b[0m\u001b[0;34m\u001b[0m\u001b[0m\n",
      "\u001b[0;32m~/.pyenv/versions/keywords2/lib/python3.7/site-packages/tensorflow/python/eager/def_function.py\u001b[0m in \u001b[0;36m__call__\u001b[0;34m(self, *args, **kwds)\u001b[0m\n\u001b[1;32m    778\u001b[0m       \u001b[0;32melse\u001b[0m\u001b[0;34m:\u001b[0m\u001b[0;34m\u001b[0m\u001b[0;34m\u001b[0m\u001b[0m\n\u001b[1;32m    779\u001b[0m         \u001b[0mcompiler\u001b[0m \u001b[0;34m=\u001b[0m \u001b[0;34m\"nonXla\"\u001b[0m\u001b[0;34m\u001b[0m\u001b[0;34m\u001b[0m\u001b[0m\n\u001b[0;32m--> 780\u001b[0;31m         \u001b[0mresult\u001b[0m \u001b[0;34m=\u001b[0m \u001b[0mself\u001b[0m\u001b[0;34m.\u001b[0m\u001b[0m_call\u001b[0m\u001b[0;34m(\u001b[0m\u001b[0;34m*\u001b[0m\u001b[0margs\u001b[0m\u001b[0;34m,\u001b[0m \u001b[0;34m**\u001b[0m\u001b[0mkwds\u001b[0m\u001b[0;34m)\u001b[0m\u001b[0;34m\u001b[0m\u001b[0;34m\u001b[0m\u001b[0m\n\u001b[0m\u001b[1;32m    781\u001b[0m \u001b[0;34m\u001b[0m\u001b[0m\n\u001b[1;32m    782\u001b[0m       \u001b[0mnew_tracing_count\u001b[0m \u001b[0;34m=\u001b[0m \u001b[0mself\u001b[0m\u001b[0;34m.\u001b[0m\u001b[0m_get_tracing_count\u001b[0m\u001b[0;34m(\u001b[0m\u001b[0;34m)\u001b[0m\u001b[0;34m\u001b[0m\u001b[0;34m\u001b[0m\u001b[0m\n",
      "\u001b[0;32m~/.pyenv/versions/keywords2/lib/python3.7/site-packages/tensorflow/python/eager/def_function.py\u001b[0m in \u001b[0;36m_call\u001b[0;34m(self, *args, **kwds)\u001b[0m\n\u001b[1;32m    805\u001b[0m       \u001b[0;31m# In this case we have created variables on the first call, so we run the\u001b[0m\u001b[0;34m\u001b[0m\u001b[0;34m\u001b[0m\u001b[0;34m\u001b[0m\u001b[0m\n\u001b[1;32m    806\u001b[0m       \u001b[0;31m# defunned version which is guaranteed to never create variables.\u001b[0m\u001b[0;34m\u001b[0m\u001b[0;34m\u001b[0m\u001b[0;34m\u001b[0m\u001b[0m\n\u001b[0;32m--> 807\u001b[0;31m       \u001b[0;32mreturn\u001b[0m \u001b[0mself\u001b[0m\u001b[0;34m.\u001b[0m\u001b[0m_stateless_fn\u001b[0m\u001b[0;34m(\u001b[0m\u001b[0;34m*\u001b[0m\u001b[0margs\u001b[0m\u001b[0;34m,\u001b[0m \u001b[0;34m**\u001b[0m\u001b[0mkwds\u001b[0m\u001b[0;34m)\u001b[0m  \u001b[0;31m# pylint: disable=not-callable\u001b[0m\u001b[0;34m\u001b[0m\u001b[0;34m\u001b[0m\u001b[0m\n\u001b[0m\u001b[1;32m    808\u001b[0m     \u001b[0;32melif\u001b[0m \u001b[0mself\u001b[0m\u001b[0;34m.\u001b[0m\u001b[0m_stateful_fn\u001b[0m \u001b[0;32mis\u001b[0m \u001b[0;32mnot\u001b[0m \u001b[0;32mNone\u001b[0m\u001b[0;34m:\u001b[0m\u001b[0;34m\u001b[0m\u001b[0;34m\u001b[0m\u001b[0m\n\u001b[1;32m    809\u001b[0m       \u001b[0;31m# Release the lock early so that multiple threads can perform the call\u001b[0m\u001b[0;34m\u001b[0m\u001b[0;34m\u001b[0m\u001b[0;34m\u001b[0m\u001b[0m\n",
      "\u001b[0;32m~/.pyenv/versions/keywords2/lib/python3.7/site-packages/tensorflow/python/eager/function.py\u001b[0m in \u001b[0;36m__call__\u001b[0;34m(self, *args, **kwargs)\u001b[0m\n\u001b[1;32m   2827\u001b[0m     \u001b[0;32mwith\u001b[0m \u001b[0mself\u001b[0m\u001b[0;34m.\u001b[0m\u001b[0m_lock\u001b[0m\u001b[0;34m:\u001b[0m\u001b[0;34m\u001b[0m\u001b[0;34m\u001b[0m\u001b[0m\n\u001b[1;32m   2828\u001b[0m       \u001b[0mgraph_function\u001b[0m\u001b[0;34m,\u001b[0m \u001b[0margs\u001b[0m\u001b[0;34m,\u001b[0m \u001b[0mkwargs\u001b[0m \u001b[0;34m=\u001b[0m \u001b[0mself\u001b[0m\u001b[0;34m.\u001b[0m\u001b[0m_maybe_define_function\u001b[0m\u001b[0;34m(\u001b[0m\u001b[0margs\u001b[0m\u001b[0;34m,\u001b[0m \u001b[0mkwargs\u001b[0m\u001b[0;34m)\u001b[0m\u001b[0;34m\u001b[0m\u001b[0;34m\u001b[0m\u001b[0m\n\u001b[0;32m-> 2829\u001b[0;31m     \u001b[0;32mreturn\u001b[0m \u001b[0mgraph_function\u001b[0m\u001b[0;34m.\u001b[0m\u001b[0m_filtered_call\u001b[0m\u001b[0;34m(\u001b[0m\u001b[0margs\u001b[0m\u001b[0;34m,\u001b[0m \u001b[0mkwargs\u001b[0m\u001b[0;34m)\u001b[0m  \u001b[0;31m# pylint: disable=protected-access\u001b[0m\u001b[0;34m\u001b[0m\u001b[0;34m\u001b[0m\u001b[0m\n\u001b[0m\u001b[1;32m   2830\u001b[0m \u001b[0;34m\u001b[0m\u001b[0m\n\u001b[1;32m   2831\u001b[0m   \u001b[0;34m@\u001b[0m\u001b[0mproperty\u001b[0m\u001b[0;34m\u001b[0m\u001b[0;34m\u001b[0m\u001b[0m\n",
      "\u001b[0;32m~/.pyenv/versions/keywords2/lib/python3.7/site-packages/tensorflow/python/eager/function.py\u001b[0m in \u001b[0;36m_filtered_call\u001b[0;34m(self, args, kwargs, cancellation_manager)\u001b[0m\n\u001b[1;32m   1846\u001b[0m                            resource_variable_ops.BaseResourceVariable))],\n\u001b[1;32m   1847\u001b[0m         \u001b[0mcaptured_inputs\u001b[0m\u001b[0;34m=\u001b[0m\u001b[0mself\u001b[0m\u001b[0;34m.\u001b[0m\u001b[0mcaptured_inputs\u001b[0m\u001b[0;34m,\u001b[0m\u001b[0;34m\u001b[0m\u001b[0;34m\u001b[0m\u001b[0m\n\u001b[0;32m-> 1848\u001b[0;31m         cancellation_manager=cancellation_manager)\n\u001b[0m\u001b[1;32m   1849\u001b[0m \u001b[0;34m\u001b[0m\u001b[0m\n\u001b[1;32m   1850\u001b[0m   \u001b[0;32mdef\u001b[0m \u001b[0m_call_flat\u001b[0m\u001b[0;34m(\u001b[0m\u001b[0mself\u001b[0m\u001b[0;34m,\u001b[0m \u001b[0margs\u001b[0m\u001b[0;34m,\u001b[0m \u001b[0mcaptured_inputs\u001b[0m\u001b[0;34m,\u001b[0m \u001b[0mcancellation_manager\u001b[0m\u001b[0;34m=\u001b[0m\u001b[0;32mNone\u001b[0m\u001b[0;34m)\u001b[0m\u001b[0;34m:\u001b[0m\u001b[0;34m\u001b[0m\u001b[0;34m\u001b[0m\u001b[0m\n",
      "\u001b[0;32m~/.pyenv/versions/keywords2/lib/python3.7/site-packages/tensorflow/python/eager/function.py\u001b[0m in \u001b[0;36m_call_flat\u001b[0;34m(self, args, captured_inputs, cancellation_manager)\u001b[0m\n\u001b[1;32m   1922\u001b[0m       \u001b[0;31m# No tape is watching; skip to running the function.\u001b[0m\u001b[0;34m\u001b[0m\u001b[0;34m\u001b[0m\u001b[0;34m\u001b[0m\u001b[0m\n\u001b[1;32m   1923\u001b[0m       return self._build_call_outputs(self._inference_function.call(\n\u001b[0;32m-> 1924\u001b[0;31m           ctx, args, cancellation_manager=cancellation_manager))\n\u001b[0m\u001b[1;32m   1925\u001b[0m     forward_backward = self._select_forward_and_backward_functions(\n\u001b[1;32m   1926\u001b[0m         \u001b[0margs\u001b[0m\u001b[0;34m,\u001b[0m\u001b[0;34m\u001b[0m\u001b[0;34m\u001b[0m\u001b[0m\n",
      "\u001b[0;32m~/.pyenv/versions/keywords2/lib/python3.7/site-packages/tensorflow/python/eager/function.py\u001b[0m in \u001b[0;36mcall\u001b[0;34m(self, ctx, args, cancellation_manager)\u001b[0m\n\u001b[1;32m    548\u001b[0m               \u001b[0minputs\u001b[0m\u001b[0;34m=\u001b[0m\u001b[0margs\u001b[0m\u001b[0;34m,\u001b[0m\u001b[0;34m\u001b[0m\u001b[0;34m\u001b[0m\u001b[0m\n\u001b[1;32m    549\u001b[0m               \u001b[0mattrs\u001b[0m\u001b[0;34m=\u001b[0m\u001b[0mattrs\u001b[0m\u001b[0;34m,\u001b[0m\u001b[0;34m\u001b[0m\u001b[0;34m\u001b[0m\u001b[0m\n\u001b[0;32m--> 550\u001b[0;31m               ctx=ctx)\n\u001b[0m\u001b[1;32m    551\u001b[0m         \u001b[0;32melse\u001b[0m\u001b[0;34m:\u001b[0m\u001b[0;34m\u001b[0m\u001b[0;34m\u001b[0m\u001b[0m\n\u001b[1;32m    552\u001b[0m           outputs = execute.execute_with_cancellation(\n",
      "\u001b[0;32m~/.pyenv/versions/keywords2/lib/python3.7/site-packages/tensorflow/python/eager/execute.py\u001b[0m in \u001b[0;36mquick_execute\u001b[0;34m(op_name, num_outputs, inputs, attrs, ctx, name)\u001b[0m\n\u001b[1;32m     58\u001b[0m     \u001b[0mctx\u001b[0m\u001b[0;34m.\u001b[0m\u001b[0mensure_initialized\u001b[0m\u001b[0;34m(\u001b[0m\u001b[0;34m)\u001b[0m\u001b[0;34m\u001b[0m\u001b[0;34m\u001b[0m\u001b[0m\n\u001b[1;32m     59\u001b[0m     tensors = pywrap_tfe.TFE_Py_Execute(ctx._handle, device_name, op_name,\n\u001b[0;32m---> 60\u001b[0;31m                                         inputs, attrs, num_outputs)\n\u001b[0m\u001b[1;32m     61\u001b[0m   \u001b[0;32mexcept\u001b[0m \u001b[0mcore\u001b[0m\u001b[0;34m.\u001b[0m\u001b[0m_NotOkStatusException\u001b[0m \u001b[0;32mas\u001b[0m \u001b[0me\u001b[0m\u001b[0;34m:\u001b[0m\u001b[0;34m\u001b[0m\u001b[0;34m\u001b[0m\u001b[0m\n\u001b[1;32m     62\u001b[0m     \u001b[0;32mif\u001b[0m \u001b[0mname\u001b[0m \u001b[0;32mis\u001b[0m \u001b[0;32mnot\u001b[0m \u001b[0;32mNone\u001b[0m\u001b[0;34m:\u001b[0m\u001b[0;34m\u001b[0m\u001b[0;34m\u001b[0m\u001b[0m\n",
      "\u001b[0;31mKeyboardInterrupt\u001b[0m: "
     ]
    }
   ],
   "source": [
    "from tensorflow.keras.callbacks import EarlyStopping, ModelCheckpoint\n",
    "\n",
    "# better to use iterator generators\n",
    "#model.fit(dataset_1, validation_data=dataset_validation, validation_batch_size=128, epochs=40)\n",
    "model_nr = str(5)\n",
    "model_path = \"model_\"+model_nr+\".hdf5\"\n",
    "\n",
    "callbacks = [EarlyStopping(monitor=\"loss\", patience=10, verbose=1, mode=\"auto\", restore_best_weights=True),\n",
    "            ModelCheckpoint(model_path, monitor=\"loss\", verbose=1, save_best_only=True,\n",
    "                            save_weights_only=False, mode=\"min\",save_freq=\"epoch\",options=None)\n",
    "            ]\n",
    "model.fit(dataset_train, epochs=200, callbacks=callbacks)\n",
    "#model.fit(dataset_test, epochs=200, callbacks=callbacks) # this is the test for only int tflite models inference\n",
    "\n",
    "# eine epoche besteht hier nur aus einem batch! wirklich?"
   ]
  },
  {
   "cell_type": "markdown",
   "metadata": {},
   "source": [
    "## Testing\n",
    "\n",
    "Time of truth, ladies and gents, we're now using our model to predict the words of previously unseen audio!\n",
    "\n",
    "Simple as it is, we feed our test and validation set into the model and compare its output to the actual labels, voila! Not much else to say here.\n",
    "\n",
    "Maybe a couple words on the deployment. Following lines of code would be the bedrock of a keyword recognition software. Of course we still have to preprocess the data, but the rest of the main logic relies on these few lines of code. What to do if a specific keyword is recognized, well thats a question for another time (or use case)."
   ]
  },
  {
   "cell_type": "code",
   "execution_count": 60,
   "metadata": {},
   "outputs": [],
   "source": [
    "import numpy as np\n",
    "\n",
    "def calc_acc(predictions, dataset, verbose=1):\n",
    "    \"\"\"\n",
    "    Quick way of getting the overall accuracy given predictions and a dataset.\n",
    "    Additionally returns a dict of number of correct and incorrect predicted labels for visualization\n",
    "    Labels are keys, Value is a dict of True/False (as strings) and the count (int)\n",
    "    \"\"\"\n",
    "    total, correct = 0, 0\n",
    "    index = 0\n",
    "    n_corr_labels = {}\n",
    "    \n",
    "    for batch in dataset:\n",
    "        for label in batch[1]:\n",
    "            label = label.numpy()\n",
    "            #print(label, type(label))\n",
    "            total += 1\n",
    "            if label == np.argmax(predictions[index]):\n",
    "                correct += 1\n",
    "                if not label in n_corr_labels:\n",
    "                    n_corr_labels[label] = {\"True\": 1, \"False\": 0}\n",
    "                else:\n",
    "                    n_corr_labels[label][\"True\"] += 1\n",
    "            else:\n",
    "                if not label in n_corr_labels:\n",
    "                    n_corr_labels[label] = {\"True\": 0, \"False\": 1}\n",
    "                else:\n",
    "                    n_corr_labels[label][\"False\"] += 1\n",
    "            index += 1\n",
    "\n",
    "    if verbose == 1:\n",
    "        print(\"{} out of {} correct, resulting in an accuracy of {}\\n\".format(correct, total, (correct/total)*100))  \n",
    "    \n",
    "    return n_corr_labels\n",
    "    "
   ]
  },
  {
   "cell_type": "code",
   "execution_count": 15,
   "metadata": {},
   "outputs": [
    {
     "name": "stdout",
     "output_type": "stream",
     "text": [
      "79/79 [==============================] - 39s 492ms/step\n",
      "39/39 [==============================] - 19s 484ms/step\n"
     ]
    }
   ],
   "source": [
    "import keras\n",
    "\n",
    "model = keras.models.load_model('model_4.hdf5')\n",
    "\n",
    "preds_val = model.predict(dataset_validation, verbose=1)\n",
    "preds_test = model.predict(dataset_test, verbose=1)\n"
   ]
  },
  {
   "cell_type": "markdown",
   "metadata": {},
   "source": [
    "#### Tip of the day:\n",
    "\n",
    "It's always a good idea to make three checks when working with data in general:\n",
    "- What data type are you getting?\n",
    "- What data shape are you getting?\n",
    "- What data are you actually getting?\n",
    "\n",
    "Always checking these three, even if you think you know what you've got, can save you alot of trouble and reassure your way of thinking."
   ]
  },
  {
   "cell_type": "code",
   "execution_count": 16,
   "metadata": {},
   "outputs": [
    {
     "name": "stdout",
     "output_type": "stream",
     "text": [
      "<class 'numpy.ndarray'>\n",
      "(10102, 12)\n",
      "[2.4074031e-01 9.8635897e-04 1.4899257e-08 7.5826895e-01 5.3230315e-13\n",
      " 9.2633536e-14 3.1757821e-13 1.7721283e-14 4.7204818e-16 5.8806382e-10\n",
      " 1.2087403e-25 4.3698069e-06]\n"
     ]
    }
   ],
   "source": [
    "print(type(preds_val))\n",
    "print(preds_val.shape)\n",
    "print(preds_val[0])"
   ]
  },
  {
   "cell_type": "code",
   "execution_count": 61,
   "metadata": {},
   "outputs": [
    {
     "name": "stdout",
     "output_type": "stream",
     "text": [
      "9544 out of 10102 correct, resulting in an accuracy of 94.47634131855078\n",
      "\n",
      "4334 out of 4890 correct, resulting in an accuracy of 88.62985685071575\n",
      "\n"
     ]
    }
   ],
   "source": [
    "val_results = calc_acc(preds_val, dataset_validation)\n",
    "test_results = calc_acc(preds_test, dataset_test)\n",
    "\n",
    "\n",
    "\n"
   ]
  },
  {
   "cell_type": "code",
   "execution_count": 76,
   "metadata": {},
   "outputs": [
    {
     "name": "stdout",
     "output_type": "stream",
     "text": [
      "3 {'True': 342, 'False': 63}\n",
      "11 {'True': 398, 'False': 10}\n",
      "10 {'True': 372, 'False': 36}\n",
      "7 {'True': 364, 'False': 47}\n",
      "8 {'True': 339, 'False': 86}\n",
      "6 {'True': 352, 'False': 44}\n",
      "0 {'True': 358, 'False': 48}\n",
      "9 {'True': 388, 'False': 31}\n",
      "2 {'True': 356, 'False': 56}\n",
      "1 {'True': 352, 'False': 50}\n",
      "5 {'True': 343, 'False': 53}\n",
      "4 {'True': 370, 'False': 32}\n"
     ]
    }
   ],
   "source": [
    "for ele in val_results.keys():\n",
    "    print(ele, test_results[ele])"
   ]
  },
  {
   "cell_type": "code",
   "execution_count": 75,
   "metadata": {},
   "outputs": [
    {
     "data": {
      "image/png": "[encoded data removed]",
      "text/plain": [
       "<Figure size 432x288 with 1 Axes>"
      ]
     },
     "metadata": {
      "needs_background": "light"
     },
     "output_type": "display_data"
    },
    {
     "data": {
      "image/png": "[encoded data removed]",
      "text/plain": [
       "<Figure size 432x288 with 1 Axes>"
      ]
     },
     "metadata": {
      "needs_background": "light"
     },
     "output_type": "display_data"
    }
   ],
   "source": [
    "# Lets plot!\n",
    "\n",
    "import matplotlib.pyplot as plt\n",
    "def plot_results(results):\n",
    "    langs = ['down', 'go', 'left', 'no', 'off', 'on', 'right', 'stop', 'up', 'yes']\n",
    "    correct = [results[i][\"True\"] for i in range(len(langs))]\n",
    "    incorrect = [results[i][\"False\"] for i in range(len(langs))]\n",
    "    ind = np.arange(len(langs))\n",
    "\n",
    "    fig = plt.figure()\n",
    "    ax = fig.add_axes([0,0,1,1])\n",
    "    ax.bar(ind, correct, color='b')\n",
    "    ax.bar(ind, incorrect, bottom=correct, color='r')\n",
    "    ax.set_ylabel('Scores')\n",
    "    ax.set_xticks(ind)\n",
    "    ax.set_yticks(np.arange(0, 500, 50))\n",
    "    ax.legend(labels=['Correct', 'Incorrect'])\n",
    "\n",
    "    plt.show()\n",
    "\n",
    "\"\"\"\n",
    "N = 5\n",
    "menMeans = (20, 35, 30, 35, 27)\n",
    "womenMeans = (25, 32, 34, 20, 25)\n",
    "ind = np.arange(N) # the x locations for the groups\n",
    "width = 0.35\n",
    "fig = plt.figure()\n",
    "ax = fig.add_axes([0,0,1,1])\n",
    "ax.bar(ind, menMeans, width, color='r')\n",
    "ax.bar(ind, womenMeans, width,bottom=menMeans, color='b')\n",
    "ax.set_ylabel('Scores')\n",
    "ax.set_title('Scores by group and gender')\n",
    "ax.set_xticks(ind, ('G1', 'G2', 'G3', 'G4', 'G5'))\n",
    "ax.set_yticks(np.arange(0, 81, 10))\n",
    "ax.legend(labels=['Men', 'Women'])\n",
    "plt.show()\n",
    "\"\"\"\n",
    "plot_results(val_results)\n",
    "plot_results(test_results)"
   ]
  },
  {
   "cell_type": "code",
   "execution_count": 143,
   "metadata": {},
   "outputs": [
    {
     "name": "stdout",
     "output_type": "stream",
     "text": [
      "406 out of 4890 correct, resulting in an accuracy of 8.302658486707566\n"
     ]
    }
   ],
   "source": [
    "import random\n",
    "total = 0\n",
    "correct = 0\n",
    "\n",
    "for target in y_test_trans:\n",
    "    total += 1\n",
    "    pred_idx = random.randrange(0, 11)\n",
    "    #print(pred_idx)\n",
    "    if target[pred_idx]==1:\n",
    "        correct += 1\n",
    "\n",
    "print(\"{} out of {} correct, resulting in an accuracy of {}\".format(correct, total, (correct/total)*100))\n"
   ]
  },
  {
   "cell_type": "code",
   "execution_count": null,
   "metadata": {},
   "outputs": [],
   "source": [
    "\"\"\" Further train the model with validaton set \"\"\"\n",
    "\n",
    "\n",
    "\n",
    "\n",
    "\n"
   ]
  },
  {
   "cell_type": "markdown",
   "metadata": {},
   "source": [
    "## Tf-Lite Conversion and Quantization\n",
    "\n",
    "We're now in the postition to convert our model to tflite format, which greatly reduces its size. We also want to quantize it, bringing the weights from float32 to int16. This comes with a reduction in accuracy, but needs to be done if we want to run the model on an tpu, like google corals tpu-accelerator.\n",
    "\n",
    "#### A Note:\n",
    "We're using post-training quantization, which reduces the precision of a models weights from float to int. While this is quick, the model potentially loses a good amout of accuracy. This can be combated by using a quantization aware training approach. Here, fake quantization nodes are introduced which help the model to compensate for the information loss of quantization. \n",
    "\n",
    "Quantization aware training usually increases the training time, which is why we refrained from it. It would be  easy to implement nonetheless, using following lines before the training process.\n",
    "\n",
    "import tensorflow_model_optimization as tfmot\n",
    "qat_model = tfmot.quantization.keras.quantize_model(your_keras_model)\n",
    "\n"
   ]
  },
  {
   "cell_type": "code",
   "execution_count": 21,
   "metadata": {},
   "outputs": [
    {
     "name": "stdout",
     "output_type": "stream",
     "text": [
      "INFO:tensorflow:Assets written to: /var/folders/mx/q84y7s0d107182d1vknn_rmh0000gn/T/tmpm431t6wf/assets\n"
     ]
    },
    {
     "name": "stderr",
     "output_type": "stream",
     "text": [
      "INFO:tensorflow:Assets written to: /var/folders/mx/q84y7s0d107182d1vknn_rmh0000gn/T/tmpm431t6wf/assets\n"
     ]
    }
   ],
   "source": [
    "\"\"\"Tensorflow lite converter\"\"\"\n",
    "\n",
    "#\n",
    "#\n",
    "#ToDo: \n",
    "# Full interger quantization\n",
    "#https://www.tensorflow.org/lite/performance/post_training_integer_quant?hl=en#convert_using_integer-only_quantization\n",
    "#https://www.tensorflow.org/lite/performance/post_training_quantization?hl=en\n",
    "#\n",
    "# useful link: https://towardsdatascience.com/a-tale-of-model-quantization-in-tf-lite-aebe09f255ca\n",
    "\n",
    "import tensorflow.lite as lite\n",
    "from tensorflow import keras\n",
    "model = keras.models.load_model('model_4.hdf5')\n",
    "\n",
    "converter = lite.TFLiteConverter.from_keras_model(model)\n",
    "# This\n",
    "converter.optimizations = [tf.lite.Optimize.DEFAULT]\n",
    "tflite_model = converter.convert()\n",
    "\n"
   ]
  },
  {
   "cell_type": "code",
   "execution_count": 18,
   "metadata": {},
   "outputs": [
    {
     "name": "stdout",
     "output_type": "stream",
     "text": [
      "WARNING:tensorflow:From /Users/max/.pyenv/versions/keywords2/lib/python3.7/site-packages/tensorflow/python/training/tracking/tracking.py:111: Model.state_updates (from tensorflow.python.keras.engine.training) is deprecated and will be removed in a future version.\n",
      "Instructions for updating:\n",
      "This property should not be used in TensorFlow 2.0, as updates are applied automatically.\n"
     ]
    },
    {
     "name": "stderr",
     "output_type": "stream",
     "text": [
      "WARNING:tensorflow:From /Users/max/.pyenv/versions/keywords2/lib/python3.7/site-packages/tensorflow/python/training/tracking/tracking.py:111: Model.state_updates (from tensorflow.python.keras.engine.training) is deprecated and will be removed in a future version.\n",
      "Instructions for updating:\n",
      "This property should not be used in TensorFlow 2.0, as updates are applied automatically.\n"
     ]
    },
    {
     "name": "stdout",
     "output_type": "stream",
     "text": [
      "WARNING:tensorflow:From /Users/max/.pyenv/versions/keywords2/lib/python3.7/site-packages/tensorflow/python/training/tracking/tracking.py:111: Layer.updates (from tensorflow.python.keras.engine.base_layer) is deprecated and will be removed in a future version.\n",
      "Instructions for updating:\n",
      "This property should not be used in TensorFlow 2.0, as updates are applied automatically.\n"
     ]
    },
    {
     "name": "stderr",
     "output_type": "stream",
     "text": [
      "WARNING:tensorflow:From /Users/max/.pyenv/versions/keywords2/lib/python3.7/site-packages/tensorflow/python/training/tracking/tracking.py:111: Layer.updates (from tensorflow.python.keras.engine.base_layer) is deprecated and will be removed in a future version.\n",
      "Instructions for updating:\n",
      "This property should not be used in TensorFlow 2.0, as updates are applied automatically.\n"
     ]
    },
    {
     "name": "stdout",
     "output_type": "stream",
     "text": [
      "INFO:tensorflow:Assets written to: /var/folders/mx/q84y7s0d107182d1vknn_rmh0000gn/T/tmpjnri_jg8/assets\n"
     ]
    },
    {
     "name": "stderr",
     "output_type": "stream",
     "text": [
      "INFO:tensorflow:Assets written to: /var/folders/mx/q84y7s0d107182d1vknn_rmh0000gn/T/tmpjnri_jg8/assets\n"
     ]
    },
    {
     "name": "stdout",
     "output_type": "stream",
     "text": [
      "INFO:tensorflow:Assets written to: /var/folders/mx/q84y7s0d107182d1vknn_rmh0000gn/T/tmpar860z4j/assets\n"
     ]
    },
    {
     "name": "stderr",
     "output_type": "stream",
     "text": [
      "INFO:tensorflow:Assets written to: /var/folders/mx/q84y7s0d107182d1vknn_rmh0000gn/T/tmpar860z4j/assets\n"
     ]
    }
   ],
   "source": [
    "\"\"\"\n",
    "But wait! We only converted weights to int, but not the input and output nodes! \n",
    "We need some additional limes for this...\n",
    "We need a representative dataset because it \"(..) can be used to evaluate optimizations by the converter. \n",
    "E.g. converter can use these examples to estimate (min, max) ranges by calibrating the model on inputs.\" Yep.\n",
    "\"\"\"\n",
    "import tensorflow as tf\n",
    "import tensorflow.lite as lite\n",
    "from tensorflow import keras\n",
    "\n",
    "model = keras.models.load_model('model_4.hdf5')\n",
    "\n",
    "def representative_data_gen():\n",
    "    for input_value in dataset_test.take(-1):\n",
    "        # Remember, we get a tuple of (audio, label) tensors, also we added an additional dimension to it, so...\n",
    "        #in_val = tf.squeeze(input_value[0], axis=0)\n",
    "        #print(input_value)\n",
    "        #print(type(input_value), input_value[0].shape)\n",
    "        #break\n",
    "        yield [input_value[0]]\n",
    "        #yield [in_val]\n",
    "        \n",
    "# We go through the quantization process two times:\n",
    "# First we'll do a weight quantization, and save the model as int_weigths.tflite.\n",
    "# This means that input and output nodes still are in float32\n",
    "with open('int_weights.tflite', 'wb') as f:\n",
    "    \n",
    "    converter = lite.TFLiteConverter.from_keras_model(model)\n",
    "    converter.optimizations = [tf.lite.Optimize.DEFAULT]\n",
    "    # \n",
    "    converter.representative_dataset = representative_data_gen\n",
    "    # Ensure that if any ops can't be quantized, the converter throws an error\n",
    "    converter.target_spec.supported_ops = [tf.lite.OpsSet.TFLITE_BUILTINS_INT8]\n",
    "    \n",
    "    tflite_model_quant = converter.convert()\n",
    "    f.write(tflite_model_quant)\n",
    "\n",
    "# To use a model on int-only devices, like the coral tpu, we need to set input and output types to int8.\n",
    "with open('int_only.tflite', 'wb') as f:\n",
    "    \n",
    "    converter = lite.TFLiteConverter.from_keras_model(model)\n",
    "    converter.optimizations = [tf.lite.Optimize.DEFAULT]\n",
    "    # \n",
    "    converter.representative_dataset = representative_data_gen\n",
    "    # Ensure that if any ops can't be quantized, the converter throws an error\n",
    "    converter.target_spec.supported_ops = [tf.lite.OpsSet.TFLITE_BUILTINS_INT8]\n",
    "    # Set the input and output tensors to uint8 (APIs added in r2.3)\n",
    "    converter.inference_input_type = tf.uint8\n",
    "    converter.inference_output_type = tf.uint8\n",
    "\n",
    "    tflite_model_quant = converter.convert()\n",
    "    f.write(tflite_model_quant)"
   ]
  },
  {
   "cell_type": "code",
   "execution_count": 19,
   "metadata": {},
   "outputs": [
    {
     "name": "stdout",
     "output_type": "stream",
     "text": [
      "int_weights.tflite 143.6 kb\n",
      "int_only.tflite 143.664 kb\n",
      "model_ints.tflite 206.784 kb\n",
      "model_only_ints.tflite 217.824 kb\n",
      "model_full_ints.tflite 217.824 kb\n",
      "model.tflite 799.7 kb\n",
      "model_4.hdf5 1495.344 kb\n",
      "model_2.hdf5 3263.864 kb\n",
      "model_1.hdf5 3263.864 kb\n",
      "model_3.hdf5 3264.72 kb\n"
     ]
    }
   ],
   "source": [
    "import os\n",
    "\n",
    "tmp_model_sizes = {}\n",
    "for file in os.listdir('.'):\n",
    "    if 'hdf5' in file or 'tflite' in file:\n",
    "        #print(file, os.path.getsize(file)/1000, 'kb')\n",
    "        tmp_model_sizes[file] = os.path.getsize(file)/1000\n",
    "\n",
    "model_sizes_kb = {k: v for k, v in sorted(tmp_model_sizes.items(), key=lambda item: item[1])}        \n",
    "for model, size in model_sizes_kb.items():\n",
    "    print(model, size, 'kb')"
   ]
  },
  {
   "cell_type": "code",
   "execution_count": 20,
   "metadata": {},
   "outputs": [],
   "source": [
    "\"\"\"Convert batched tfds into numpy for tflite inference\"\"\"\n",
    "\n",
    "import numpy as np\n",
    "\n",
    "#data = np.zeros((test_set_size, 59,13,1))\n",
    "data = np.zeros((test_set_size, 59,13))\n",
    "label_arr = np.zeros((test_set_size,1))\n",
    "#print(data.shape)\n",
    "\n",
    "index = 0\n",
    "for batch in dataset_test:\n",
    "    audio = batch[0]\n",
    "    labels = batch[1]\n",
    "    for audio, label in zip(audio, labels):\n",
    "        \n",
    "        #print(ele)\n",
    "        #print(audio.shape)\n",
    "        #print(label.numpy())\n",
    "        data[index] = audio.numpy()\n",
    "        label_arr[index] = label.numpy()\n",
    "        #print(label_arr[index])\n",
    "        \n",
    "        index += 1\n",
    "        #break\n",
    "    #break"
   ]
  },
  {
   "cell_type": "code",
   "execution_count": 28,
   "metadata": {},
   "outputs": [
    {
     "name": "stdout",
     "output_type": "stream",
     "text": [
      "Input Details:\t\t\t\tOutput Details:\n",
      "name: conv1d_36_input\t\t | \t\tname: Identity\n",
      "index: 66\t\t | \t\tindex: 67\n",
      "shape: [ 1 59 13]\t\t | \t\tshape: [ 1 12]\n",
      "shape_signature: [-1 59 13]\t\t | \t\tshape_signature: [-1 12]\n",
      "dtype: <class 'numpy.uint8'>\t\t | \t\tdtype: <class 'numpy.uint8'>\n",
      "quantization: (1.3954178094863892, 125)\t\t | \t\tquantization: (0.00390625, 0)\n",
      "quantization_parameters: {'scales': array([1.3954178], dtype=float32), 'zero_points': array([125], dtype=int32), 'quantized_dimension': 0}\t\t | \t\tquantization_parameters: {'scales': array([0.00390625], dtype=float32), 'zero_points': array([0], dtype=int32), 'quantized_dimension': 0}\n",
      "sparsity_parameters: {}\t\t | \t\tsparsity_parameters: {}\n",
      "################################\n",
      "[ 1 59 13]\n",
      "uint8 (1, 59, 13)\n",
      "[[  0   0   0   0   0   0   0   0   0   0   0 255]] (1, 12)\n"
     ]
    }
   ],
   "source": [
    "\"\"\" Load the model and make some quick tests\"\"\"\n",
    "\n",
    "import tensorflow as tf\n",
    "\n",
    "full_int_quanti = True\n",
    "\n",
    "# Load the TFLite model and allocate tensors.\n",
    "\n",
    "if full_int_quanti:\n",
    "    interpreter = tf.lite.Interpreter(model_path=\"int_only.tflite\")\n",
    "else:\n",
    "    interpreter = tf.lite.Interpreter(model_path=\"int_weights.tflite\")\n",
    "\n",
    "interpreter.allocate_tensors()\n",
    "\n",
    "# Get input and output tensors.\n",
    "input_details = interpreter.get_input_details()\n",
    "output_details = interpreter.get_output_details()\n",
    "\n",
    "print(\"Input Details:\\t\\t\\t\\tOutput Details:\")\n",
    "for in_items, out_items in zip(input_details[0].items(), output_details[0].items()):\n",
    "    print(\"{}: {}\\t\\t | \\t\\t{}: {}\".format(in_items[0],in_items[1],out_items[0],out_items[1]))\n",
    "print(\"################################\")\n",
    "# Test the model on random input data.\n",
    "\n",
    "input_shape = input_details[0]['shape']\n",
    "print(input_shape)\n",
    "#input_data = np.array(np.random.random_sample(input_shape), dtype=np.float32)\n",
    "\n",
    "test_arr = data[5]\n",
    "test_arr = test_arr.astype('float32')\n",
    "if full_int_quanti:\n",
    "    mean_value = 0\n",
    "    std_dev_value = 255\n",
    "\n",
    "    input_data = test_arr * std_dev_value + mean_value\n",
    "    input_data = input_data.astype('uint8')\n",
    "    #input_data = test_arr.astype('uint8')\n",
    "    input_data = np.expand_dims(input_data, 0)\n",
    "else:\n",
    "    input_data = test_arr\n",
    "\n",
    "print(input_data.dtype, input_data.shape)\n",
    "interpreter.set_tensor(input_details[0]['index'], input_data)\n",
    "\n",
    "interpreter.invoke()\n",
    "\n",
    "# The function `get_tensor()` returns a copy of the tensor data.\n",
    "# Use `tensor()` in order to get a pointer to the tensor.\n",
    "\n",
    "output_data = interpreter.get_tensor(output_details[0]['index'])\n",
    "print(output_data, output_data.shape)"
   ]
  },
  {
   "cell_type": "code",
   "execution_count": 29,
   "metadata": {},
   "outputs": [],
   "source": [
    "preds_int_only = np.zeros((test_set_size, 12)) # dataset size and number of labels\n",
    "preds_int_weights = np.zeros((test_set_size, 12))\n",
    "\n",
    "\n",
    "only_int_interpreter = tf.lite.Interpreter(model_path=\"int_only.tflite\")\n",
    "only_int_interpreter.allocate_tensors()\n",
    "input_details = only_int_interpreter.get_input_details()\n",
    "output_details = only_int_interpreter.get_output_details()\n",
    "input_shape = input_details[0]['shape']\n",
    "\n",
    "for i, input_data in enumerate(data):\n",
    "    mean_value = 0\n",
    "    std_dev_value = 255\n",
    "\n",
    "    input_data = input_data * std_dev_value + mean_value\n",
    "    input_data = input_data.astype('uint8')\n",
    "    input_data = np.expand_dims(input_data, 0)\n",
    "    # Inference\n",
    "    only_int_interpreter.set_tensor(input_details[0]['index'], input_data)\n",
    "    only_int_interpreter.invoke()\n",
    "    preds_int_only[i] = only_int_interpreter.get_tensor(output_details[0]['index'])\n",
    "\n",
    "\n",
    "weight_int_interpreter = tf.lite.Interpreter(model_path=\"int_weights.tflite\")\n",
    "weight_int_interpreter.allocate_tensors()\n",
    "input_details = weight_int_interpreter.get_input_details()\n",
    "output_details = weight_int_interpreter.get_output_details()\n",
    "input_shape = input_details[0]['shape']\n",
    "\n",
    "for i, input_data in enumerate(data):\n",
    "    input_data = input_data.astype('float32')\n",
    "    input_data = np.expand_dims(input_data, 0)\n",
    "    # Inference\n",
    "    weight_int_interpreter.set_tensor(input_details[0]['index'], input_data)\n",
    "    weight_int_interpreter.invoke()\n",
    "    preds_int_weights[i] = weight_int_interpreter.get_tensor(output_details[0]['index'])"
   ]
  },
  {
   "cell_type": "code",
   "execution_count": 77,
   "metadata": {},
   "outputs": [],
   "source": [
    "def calc_acc_tflite(predictions, targets):\n",
    "    total, correct = 0, 0\n",
    "    index = 0\n",
    "    predicted_label_count = {}\n",
    "\n",
    "    for i, label in enumerate(targets):\n",
    "        prediction = np.argmax(predictions[i])\n",
    "\n",
    "        if prediction == label:\n",
    "            correct += 1\n",
    "            if prediction in predicted_label_count:\n",
    "                predicted_label_count[prediction][\"True\"] += 1\n",
    "            else:\n",
    "                predicted_label_count[prediction] = {\"True\": 1, \"False\": 0}\n",
    "        else:\n",
    "            if prediction in predicted_label_count:\n",
    "                predicted_label_count[prediction][\"False\"] += 1\n",
    "            else:\n",
    "                predicted_label_count[prediction] = {\"True\": 0, \"False\": 1}\n",
    "        total += 1\n",
    "        \n",
    "    print(\"{} out of {} correct, resulting in an accuracy of {}\".format(correct, total, (correct/total)*100))\n",
    "    \"\"\"print(\"Number of predictions for a specific label:\")\n",
    "    for key, val in predicted_label_count.items():\n",
    "        print(key, val)\n",
    "    \"\"\"  \n",
    "    return predicted_label_count\n",
    "        \n",
    "        \n",
    "        "
   ]
  },
  {
   "cell_type": "code",
   "execution_count": 80,
   "metadata": {},
   "outputs": [
    {
     "name": "stdout",
     "output_type": "stream",
     "text": [
      "Full Integer Quantization Model, Input and Output in Float:\n",
      "4225 out of 4890 correct, resulting in an accuracy of 86.40081799591002\n",
      "Only Integer Quantization Model:\n",
      "410 out of 4890 correct, resulting in an accuracy of 8.384458077709612\n"
     ]
    }
   ],
   "source": [
    "print(\"Full Integer Quantization Model, Input and Output in Float:\")\n",
    "full_int_results = calc_acc_tflite(preds_int_weights, label_arr)\n",
    "print(\"Only Integer Quantization Model:\")\n",
    "only_int_results = calc_acc_tflite(preds_int_only, label_arr)\n"
   ]
  },
  {
   "cell_type": "code",
   "execution_count": 81,
   "metadata": {},
   "outputs": [
    {
     "data": {
      "image/png": "[encoded data removed]",
      "text/plain": [
       "<Figure size 432x288 with 1 Axes>"
      ]
     },
     "metadata": {
      "needs_background": "light"
     },
     "output_type": "display_data"
    },
    {
     "data": {
      "image/png": "[encoded data removed]",
      "text/plain": [
       "<Figure size 432x288 with 1 Axes>"
      ]
     },
     "metadata": {
      "needs_background": "light"
     },
     "output_type": "display_data"
    }
   ],
   "source": [
    "plot_results(full_int_results)\n",
    "plot_results(only_int_results)"
   ]
  },
  {
   "cell_type": "code",
   "execution_count": 34,
   "metadata": {},
   "outputs": [],
   "source": [
    "\"\"\"inference loop for lite model\"\"\"\n",
    "preds = np.zeros((test_set_size, 12)) # dataset size and number of labels\n",
    "\n",
    "for i, input_data in enumerate(data):\n",
    "    # Some data adjustment\n",
    "    \n",
    "    #input_data = input_data.astype('float32')\n",
    "    input_data = input_data.astype('uint8')\n",
    "    #print(input_data.shape)\n",
    "    input_data = np.expand_dims(input_data, 0)\n",
    "    \n",
    "    #print(input_data.shape)\n",
    "    #break\n",
    "    \n",
    "    # Inference\n",
    "    interpreter.set_tensor(input_details[0]['index'], input_data)\n",
    "    interpreter.invoke()\n",
    "    preds[i] = interpreter.get_tensor(output_details[0]['index'])\n",
    "    \n",
    "    #print(output_data.shape, preds.shape)\n",
    "    \n",
    "    #preds[i] = output_data"
   ]
  },
  {
   "cell_type": "code",
   "execution_count": 35,
   "metadata": {},
   "outputs": [
    {
     "name": "stdout",
     "output_type": "stream",
     "text": [
      "[  0.   0. 255.   0.   0.   0.   0.   0.   0.   0.   0.   0.]\n",
      "4885\n",
      "445 out of 4890 correct, resulting in an accuracy of 9.100204498977506\n",
      "2 4559\n",
      "1 146\n",
      "8 43\n",
      "11 104\n",
      "3 19\n",
      "7 12\n",
      "9 2\n",
      "0 5\n"
     ]
    }
   ],
   "source": [
    "total, correct = 0, 0\n",
    "index = 0\n",
    "print(preds[6])\n",
    "not_null = 0\n",
    "predicted_label_count = {}\n",
    "\n",
    "for i, label in enumerate(label_arr):\n",
    "    prediction = np.argmax(preds[i])\n",
    "    if prediction in predicted_label_count:\n",
    "        predicted_label_count[prediction] += 1\n",
    "    else:\n",
    "        predicted_label_count[prediction] = 1\n",
    "        \n",
    "    if prediction == label:\n",
    "        \n",
    "        correct += 1\n",
    "    total += 1\n",
    "    if prediction != 0:\n",
    "        not_null += 1\n",
    "        \n",
    "print(not_null)\n",
    "print(\"{} out of {} correct, resulting in an accuracy of {}\".format(correct, total, (correct/total)*100))\n",
    "for key, val in predicted_label_count.items():\n",
    "    print(key, val)"
   ]
  },
  {
   "cell_type": "code",
   "execution_count": null,
   "metadata": {},
   "outputs": [],
   "source": []
  }
 ],
 "metadata": {
  "kernelspec": {
   "display_name": "keywords2",
   "language": "python",
   "name": "keywords2"
  }
 },
 "nbformat": 4,
 "nbformat_minor": 4
}
