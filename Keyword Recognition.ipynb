{
 "cells": [
  {
   "cell_type": "code",
   "execution_count": 3,
   "metadata": {},
   "outputs": [
    {
     "name": "stdout",
     "output_type": "stream",
     "text": [
      "True\n"
     ]
    }
   ],
   "source": [
    "# virtualenv check\n",
    "import sys\n",
    "\n",
    "def get_base_prefix_compat():\n",
    "    \"\"\"Get base/real prefix, or sys.prefix if there is none.\"\"\"\n",
    "    return getattr(sys, \"base_prefix\", None) or getattr(sys, \"real_prefix\", None) or sys.prefix\n",
    "\n",
    "def in_virtualenv():\n",
    "    return get_base_prefix_compat() != sys.prefix\n",
    "\n",
    "print(in_virtualenv())"
   ]
  },
  {
   "cell_type": "markdown",
   "metadata": {},
   "source": [
    "# Greetings!\n",
    "\n",
    "## Simple Keyword Recognition on a google coral TPU\n",
    "\n",
    "This notebook serves as a simple showcase and tutorial on how to train a rudimentary speech-recognition neural network. Because there are already good guides on this topic, we'll add a little \"edge\" to it (heh) by venturing into the territory of microcontrollers and tpu. Here, size matters, for which tensorflow handily offers the tensorflow lite library. With functions to convert normal keras models to their lite versions, we'll see how this affects size and performance.\n",
    "\n",
    "To keep training times low and model size small, we'll focus on keywords (often times also called wakewords like \"Hey Siri\"), meaning short utterances like \"on\" and \"off\".\n",
    "\n",
    "Our final goal will be to deploy our model on a google coral tensor processing unit (tpu). As mentioned, for this project we'll use the tensorflow framework. This will also make the model creation, paramter searching and training a breeze. On top of that, tensorflow has strong deployment options.\n",
    "\n",
    "This notebook concerns only the dataset, neural network, training and testing pipelines and the conversion to lite. Another notebook will cover model deployment in an end-to-end system on a raspberry pi with connected tpu.\n",
    "\n",
    "### Content\n",
    "- Tensorflow Datasets\n",
    "- Preprocessing\n",
    "    - Feature Extraction\n",
    "    - Input Pipeline\n",
    "- Neural Network\n",
    "- Training\n",
    "- Testing\n",
    "- Tf-Lite Conversion and Quantization"
   ]
  },
  {
   "cell_type": "code",
   "execution_count": 2,
   "metadata": {},
   "outputs": [],
   "source": [
    "# Imports\n",
    "\n",
    "import tensorflow as tf\n",
    "import tensorflow_datasets as tfds\n"
   ]
  },
  {
   "cell_type": "markdown",
   "metadata": {},
   "source": [
    "## Tensorflow Datasets\n",
    "\n",
    "Tensorflow datasets (tfds) are a quick way of acquiring data. The dataset object comes with a multitude of methods to transform the data and serve it to the model. It also conviently displays info about the dataset."
   ]
  },
  {
   "cell_type": "code",
   "execution_count": 4,
   "metadata": {},
   "outputs": [],
   "source": [
    "dataset_name = \"speech_commands\"\n",
    "\n",
    "\n",
    "speech_builder = tfds.builder(dataset_name)"
   ]
  },
  {
   "cell_type": "code",
   "execution_count": 5,
   "metadata": {},
   "outputs": [
    {
     "name": "stdout",
     "output_type": "stream",
     "text": [
      "gtzan_music_speech\n",
      "librispeech\n",
      "librispeech_lm\n",
      "ljspeech\n",
      "speech_commands\n",
      "tfds.core.DatasetInfo(\n",
      "    name='speech_commands',\n",
      "    version=0.0.2,\n",
      "    description='An audio dataset of spoken words designed to help train and evaluate keyword\n",
      "spotting systems. Its primary goal is to provide a way to build and test small\n",
      "models that detect when a single word is spoken, from a set of ten target words,\n",
      "with as few false positives as possible from background noise or unrelated\n",
      "speech. Note that in the train and validation set, the label \"unknown\" is much\n",
      "more prevalent than the labels of the target words or background noise.\n",
      "One difference from the release version is the handling of silent segments.\n",
      "While in the test set the silence segments are regular 1 second files, in the\n",
      "training they are provided as long segments under \"background_noise\" folder.\n",
      "Here we split these background noise into 1 second clips, and also keep one of\n",
      "the files for the validation set.',\n",
      "    homepage='https://arxiv.org/abs/1804.03209',\n",
      "    features=FeaturesDict({\n",
      "        'audio': Audio(shape=(None,), dtype=tf.int64),\n",
      "        'label': ClassLabel(shape=(), dtype=tf.int64, num_classes=12),\n",
      "    }),\n",
      "    total_num_examples=100503,\n",
      "    splits={\n",
      "        'test': 4890,\n",
      "        'train': 85511,\n",
      "        'validation': 10102,\n",
      "    },\n",
      "    supervised_keys=('audio', 'label'),\n",
      "    citation=\"\"\"@article{speechcommandsv2,\n",
      "       author = {{Warden}, P.},\n",
      "        title = \"{Speech Commands: A Dataset for Limited-Vocabulary Speech Recognition}\",\n",
      "      journal = {ArXiv e-prints},\n",
      "      archivePrefix = \"arXiv\",\n",
      "      eprint = {1804.03209},\n",
      "      primaryClass = \"cs.CL\",\n",
      "      keywords = {Computer Science - Computation and Language, Computer Science - Human-Computer Interaction},\n",
      "        year = 2018,\n",
      "        month = apr,\n",
      "        url = {https://arxiv.org/abs/1804.03209},\n",
      "    }\"\"\",\n",
      "    redistribution_info=,\n",
      ")\n",
      "\n"
     ]
    }
   ],
   "source": [
    "\"\"\"!!! DOWNLOAD WARNING !!!\n",
    "\n",
    "This cells downloads the speech commands dataset. Will not download twice, if it detects an already\n",
    "downloaded version.\n",
    "\n",
    "\"\"\"\n",
    "\n",
    "# looking for speech commands dataset in all available datasets...\n",
    "for ele in tfds.list_builders():\n",
    "    if \"speech\" in ele:\n",
    "        print(ele)\n",
    "\n",
    "dataset_name = \"speech_commands\"\n",
    "\n",
    "# instantiate a dataset builder (see tensorflow dataset builder)\n",
    "speech_builder = tfds.builder(dataset_name)\n",
    "print(speech_builder.info)\n",
    "\n",
    "# download data into existing data folder\n",
    "speech_builder.download_and_prepare()\n"
   ]
  },
  {
   "cell_type": "code",
   "execution_count": 6,
   "metadata": {},
   "outputs": [
    {
     "name": "stdout",
     "output_type": "stream",
     "text": [
      "Labels are:\n",
      "['down', 'go', 'left', 'no', 'off', 'on', 'right', 'stop', 'up', 'yes', '_silence_', '_unknown_']\n",
      "\n",
      "Lets look directly at the first element of the dataset.\n",
      "Because it is a <class 'tensorflow.python.data.ops.dataset_ops.PrefetchDataset'>,we need to iterate through it in order to actually load elements.\n",
      "\n",
      "The dataset consists of:  <class 'tuple'>\n",
      "How does a label object look like:  tf.Tensor(7, shape=(), dtype=int64)\n",
      "How does a audio object look like:  tf.Tensor([  -1   -2   -2 ... -136 -170 -203], shape=(16000,), dtype=int64)\n"
     ]
    }
   ],
   "source": [
    "\"\"\"Get some info from the builder about the dataset\"\"\"\n",
    "builder_info = speech_builder.info\n",
    "num_labels = builder_info.features['label'].num_classes\n",
    "label_list = builder_info.features['label'].names\n",
    "\n",
    "\"\"\"Not we actually acquire the dataset object. As supervised gives us a dataset of tuples: data and label\"\"\"\n",
    "data = speech_builder.as_dataset(as_supervised=True)\n",
    "\n",
    "assert isinstance(data, dict)\n",
    "\n",
    "print(\"Labels are:\\n{}\\n\".format(label_list))\n",
    "\n",
    "test_set = data['test']\n",
    "train_set = data['train']\n",
    "validation_set = data['validation']\n",
    "\n",
    "# I've got these numbers by simple iterating through the datasets, but I'm sure there's a more elegant way\n",
    "test_set_size = 4890\n",
    "train_set_size = 85511\n",
    "validation_set_size = 10102\n",
    "\n",
    "print(\"Lets look directly at the first element of the dataset.\\nBecause it is a {},\\\n",
    "we need to iterate through it in order to actually load elements.\\n\".format(type(test_set)))\n",
    "for thing in test_set:\n",
    "    print(\"The dataset consists of: \", type(thing))\n",
    "    \n",
    "    print(\"How does a label object look like: \", thing[1])\n",
    "    print(\"How does a audio object look like: \", thing[0])\n",
    "    break"
   ]
  },
  {
   "cell_type": "code",
   "execution_count": 7,
   "metadata": {},
   "outputs": [],
   "source": [
    "def count_ents(dataset):\n",
    "    \"\"\"Counts entities of a given dataset, returns them as dict(labels, count)\"\"\"\n",
    "    result = {}\n",
    "    for thing in dataset:\n",
    "        label = thing[1].numpy()\n",
    "        #print(label)\n",
    "        #break\n",
    "        if(label in result):\n",
    "            result[label] += 1\n",
    "        else:\n",
    "            result[label] = 1\n",
    "    return result\n",
    "\n",
    "def make_plot(entity_count_dict, label_list):\n",
    "    \"\"\"Converts a dict of entity counts to a list, then plots them with the corresponded labels\"\"\"\n",
    "    fig = plt.figure()\n",
    "    ax = fig.add_axes([0,0,1,1])\n",
    "    # make a distribution\n",
    "    dist = [entity_count_dict[x] for x in range(len(label_list))]\n",
    "    ax.bar(label_list, dist)\n",
    "    plt.show"
   ]
  },
  {
   "cell_type": "code",
   "execution_count": 8,
   "metadata": {},
   "outputs": [
    {
     "data": {
      "image/png": "[encoded data removed]",
      "text/plain": [
       "<Figure size 432x288 with 1 Axes>"
      ]
     },
     "metadata": {
      "needs_background": "light"
     },
     "output_type": "display_data"
    },
    {
     "data": {
      "image/png": "[encoded data removed]",
      "text/plain": [
       "<Figure size 432x288 with 1 Axes>"
      ]
     },
     "metadata": {
      "needs_background": "light"
     },
     "output_type": "display_data"
    },
    {
     "data": {
      "image/png": "[encoded data removed]",
      "text/plain": [
       "<Figure size 432x288 with 1 Axes>"
      ]
     },
     "metadata": {
      "needs_background": "light"
     },
     "output_type": "display_data"
    }
   ],
   "source": [
    "#!pip install matplotlib\n",
    "import matplotlib.pyplot as plt\n",
    "\n",
    "\"\"\"Get the distributions of commands as a dictionary\"\"\"\n",
    "train_dist = count_ents(train_set)\n",
    "test_dist = count_ents(test_set)\n",
    "validation_dist = count_ents(validation_set)\n",
    "\n",
    "langs = ['down', 'go', 'left', 'no', 'off', 'on', 'right', 'stop', 'up', 'yes', '_silence_', '_unknown_']\n",
    "\n",
    "\"\"\"Plot the data\"\"\"\n",
    "make_plot(train_dist, langs)\n",
    "make_plot(test_dist, langs)\n",
    "make_plot(validation_dist, langs)\n"
   ]
  },
  {
   "cell_type": "markdown",
   "metadata": {},
   "source": [
    "We see that for the validaiton and training sets, \"unknown\" labeled files are present in a much higher number than the desired keywords. This of course makes sense for a keyword recognition system, where most oft the times speech unrelated to our commands is spoken. A system needs to confidently recognize unrelated speech. \n",
    "\n",
    "In order to make difference in the actual commands more visible, we now exclude the \"unknown\" label from our plot and arrive at a better representation of our data. We see that all words have a rather same frequency:"
   ]
  },
  {
   "cell_type": "code",
   "execution_count": 9,
   "metadata": {},
   "outputs": [
    {
     "data": {
      "image/png": "[encoded data removed]",
      "text/plain": [
       "<Figure size 432x288 with 1 Axes>"
      ]
     },
     "metadata": {
      "needs_background": "light"
     },
     "output_type": "display_data"
    },
    {
     "data": {
      "image/png": "[encoded data removed]",
      "text/plain": [
       "<Figure size 432x288 with 1 Axes>"
      ]
     },
     "metadata": {
      "needs_background": "light"
     },
     "output_type": "display_data"
    },
    {
     "data": {
      "image/png": "[encoded data removed]",
      "text/plain": [
       "<Figure size 432x288 with 1 Axes>"
      ]
     },
     "metadata": {
      "needs_background": "light"
     },
     "output_type": "display_data"
    }
   ],
   "source": [
    "langs = ['down', 'go', 'left', 'no', 'off', 'on', 'right', 'stop', 'up', 'yes', '_silence_']\n",
    "\n",
    "make_plot(train_dist, langs)\n",
    "make_plot(test_dist, langs)\n",
    "make_plot(validation_dist, langs)"
   ]
  },
  {
   "cell_type": "markdown",
   "metadata": {},
   "source": [
    "## Preprocessing\n",
    "\n",
    "Before fitting any model, we need to look at our data and preprocess it, in order to make it actually usuable.\n",
    "\n",
    "### Feature Extraction\n",
    "#### Data\n",
    "While raw visual data (eg. rgb pictures) already have enough information for a model to learn from, working with audio requires an additional step: feature extraction. There are attempts to use raw audio data in deep neural networks, but current state of the art systems for speech recognition often use specialized features that are computed from the raw audio signal: mel frequency cepstral coefficents. \n",
    "\n",
    "There are audio libaries like librosa that make the extraction rather easy, but because we're working with tensorflow Datasets it's best to stay in its context (otherwise we would've to jump a couple of hurdles because of the way tfds and especially PrefetchDatasets work and trust me, we dont want to do that here...). We find an example how to extract mfcc working with tensorflow tools in the official documentation. Simply pack it into a function (fingers crossed it's working correctly) for later use.\n",
    "\n",
    "\n",
    "#### Labels\n",
    "Converting to one hot encodings is only needed when we dont want to use sparse categorical entropy loss,\n",
    "We further need to convert the labels which are currently simply integers to a one-hot representation. Again, tensorflow already offers a neat function for this."
   ]
  },
  {
   "cell_type": "code",
   "execution_count": 10,
   "metadata": {},
   "outputs": [],
   "source": [
    "def make_mfccs(audio, labels):\n",
    "    \n",
    "    FRAME_RATE = 16000\n",
    "    \n",
    "    stfts = tf.signal.stft(tf.cast(audio, tf.float32), frame_length=1024, frame_step=256,\n",
    "                       fft_length=1024)\n",
    "    \n",
    "    spectrograms = tf.abs(stfts)\n",
    "\n",
    "    # Warp the linear scale spectrograms into the mel-scale.\n",
    "    num_spectrogram_bins = stfts.shape[-1]\n",
    "    lower_edge_hertz, upper_edge_hertz, num_mel_bins = 80.0, 7600.0, 80\n",
    "    linear_to_mel_weight_matrix = tf.signal.linear_to_mel_weight_matrix(num_mel_bins, num_spectrogram_bins,\n",
    "                                                                        FRAME_RATE, lower_edge_hertz,\n",
    "                                                                        upper_edge_hertz)\n",
    "    \n",
    "    mel_spectrograms = tf.tensordot(spectrograms, linear_to_mel_weight_matrix, 1)\n",
    "    \n",
    "    mel_spectrograms.set_shape(spectrograms.shape[:-1].concatenate(linear_to_mel_weight_matrix.shape[-1:]))\n",
    "\n",
    "    # Compute a stabilized log to get log-magnitude mel-scale spectrograms.\n",
    "    log_mel_spectrograms = tf.math.log(mel_spectrograms + 1e-6)\n",
    "\n",
    "    # Compute MFCCs from log_mel_spectrograms and take the first 13.\n",
    "    # You can use other parts, or even all of the MFCCs, to test around how it affect the accuracy\n",
    "    mfcc = tf.signal.mfccs_from_log_mel_spectrograms(log_mel_spectrograms)[..., :13]\n",
    "    \n",
    "    # Finally add depth to the mfcc tensors, our Conv2D-Model requires this.\n",
    "    mfcc = tf.expand_dims(mfcc, -1)\n",
    "    \n",
    "    return mfcc, labels\n",
    "\n"
   ]
  },
  {
   "cell_type": "markdown",
   "metadata": {},
   "source": [
    "### Input Pipeline\n",
    "\n",
    "While we now have a method to extract mfccs, we need to incorporate it into our input- or data-pipeline. This describes the process of how we feed our data into the model. We want to only work on batches on data (size of a batch can influence model learning) and of course extract our features. We also want to shuffle the data, improving generalization of out model.\n",
    "\n",
    "We can do all this by directly calling methods of our dataset. While it takes a little time getting used to and finding the correct parameters, the result is clean and straight forward."
   ]
  },
  {
   "cell_type": "code",
   "execution_count": 11,
   "metadata": {},
   "outputs": [],
   "source": [
    "dataset_train = train_set.map(make_mfccs\n",
    "                             ).shuffle(train_set_size\n",
    "                             ).padded_batch(128\n",
    "                             ).prefetch(tf.data.experimental.AUTOTUNE)\n",
    "\n",
    "dataset_test = test_set.map(make_mfccs\n",
    "                           ).padded_batch(128\n",
    "                           ).prefetch(tf.data.experimental.AUTOTUNE)\n",
    "\n",
    "dataset_validation = validation_set.map(make_mfccs\n",
    "                                       ).padded_batch(128\n",
    "                                       ).prefetch(tf.data.experimental.AUTOTUNE)\n",
    "\n",
    "\n",
    "\n",
    "\n"
   ]
  },
  {
   "cell_type": "markdown",
   "metadata": {},
   "source": [
    "## Neural Network\n",
    "\n",
    "Because we're limited through our use of tensorflow lite, but also because we want to keep it simple, we use a rather simple composition of layers for our neural network. \n",
    "\n",
    "Following the standards, we use 2D-convolutional layers to highlight important features. As regulations batchnormalization layers are used and rectified liniear units as activation functions. Finally a pooling layer builds the end of one layer-block."
   ]
  },
  {
   "cell_type": "code",
   "execution_count": 8,
   "metadata": {},
   "outputs": [
    {
     "name": "stdout",
     "output_type": "stream",
     "text": [
      "Model: \"sequential\"\n",
      "_________________________________________________________________\n",
      "Layer (type)                 Output Shape              Param #   \n",
      "=================================================================\n",
      "conv2d (Conv2D)              (None, 57, 11, 128)       1280      \n",
      "_________________________________________________________________\n",
      "conv2d_1 (Conv2D)            (None, 55, 9, 128)        147584    \n",
      "_________________________________________________________________\n",
      "batch_normalization (BatchNo (None, 55, 9, 128)        512       \n",
      "_________________________________________________________________\n",
      "re_lu (ReLU)                 (None, 55, 9, 128)        0         \n",
      "_________________________________________________________________\n",
      "max_pooling2d (MaxPooling2D) (None, 27, 4, 128)        0         \n",
      "_________________________________________________________________\n",
      "conv2d_2 (Conv2D)            (None, 26, 3, 64)         32832     \n",
      "_________________________________________________________________\n",
      "conv2d_3 (Conv2D)            (None, 25, 2, 64)         16448     \n",
      "_________________________________________________________________\n",
      "batch_normalization_1 (Batch (None, 25, 2, 64)         256       \n",
      "_________________________________________________________________\n",
      "re_lu_1 (ReLU)               (None, 25, 2, 64)         0         \n",
      "_________________________________________________________________\n",
      "global_average_pooling2d (Gl (None, 64)                0         \n",
      "_________________________________________________________________\n",
      "dense (Dense)                (None, 12)                780       \n",
      "_________________________________________________________________\n",
      "softmax (Softmax)            (None, 12)                0         \n",
      "=================================================================\n",
      "Total params: 199,692\n",
      "Trainable params: 199,308\n",
      "Non-trainable params: 384\n",
      "_________________________________________________________________\n"
     ]
    }
   ],
   "source": [
    "\n",
    "import keras\n",
    "from keras import Sequential\n",
    "from keras.layers import Conv2D, BatchNormalization, ReLU, MaxPooling2D, GlobalAveragePooling2D, Dense, Softmax\n",
    "from kapre.composed import get_melspectrogram_layer, get_log_frequency_spectrogram_layer\n",
    "\n",
    "input_shape = (59,13,1)\n",
    "\n",
    "model = keras.Sequential()\n",
    "\n",
    "\n",
    "\n",
    "model.add(Conv2D(128, (3), strides=1, input_shape=input_shape))\n",
    "model.add(Conv2D(128, (3), strides=1))\n",
    "model.add(BatchNormalization())\n",
    "model.add(ReLU())\n",
    "model.add(MaxPooling2D(pool_size=2, padding=\"valid\"))\n",
    "\n",
    "model.add(Conv2D(64, 2, strides=1))\n",
    "model.add(Conv2D(64, 2, strides=1))\n",
    "model.add(BatchNormalization())\n",
    "model.add(ReLU())\n",
    "#model.add(MaxPooling2D(pool_size=(2, 2), padding=\"valid\"))\n",
    "\n",
    "#model.add(Conv2D(6, (2, 2), strides=(2, 2)))\n",
    "#model.add(Conv2D(16, (2, 2), strides=(2, 2)))\n",
    "#model.add(BatchNormalization())\n",
    "#model.add(ReLU())\n",
    "model.add(GlobalAveragePooling2D())\n",
    "\n",
    "model.add(Dense(num_labels))\n",
    "#model.add(Dense(1))\n",
    "model.add(Softmax())\n",
    "\n",
    "# Compile the model\n",
    "model.compile('adam', 'sparse_categorical_crossentropy')#, run_eagerly=False)#'categorical_crossentropy', 'mse'\n",
    "model.build()\n",
    "\n",
    "model.summary()"
   ]
  },
  {
   "cell_type": "markdown",
   "metadata": {},
   "source": [
    "## Training\n",
    "\n",
    "Finally we arrive at the training. Because we already did our batching in the dataset-object, we don't really have much else to do here. Of course we still follow standard procedure by using callbacks to stop the training if nothing improved during a period of 10 epochs and saving the model with the best weights.\n",
    "\n",
    "We could, however, further improve training by using a learn rate adaption technique to handle local minimas, adjust the learning rate during training (giving it velocity) and ... RESEARCH HERE\n",
    "\n",
    "It is also a good idea to use something like gridsearch to automate parameter testing, which is however heavily memory expensive.\n",
    "\n",
    "For now, we're content with a simple training loop.\n",
    "\n",
    "Becaus we currently use the simplest way of utilizing tensorflow datasets with a keras model, validation while training is not possible. We would need to build a iterator generator for the dataset. Maybe I'll implement it later..."
   ]
  },
  {
   "cell_type": "code",
   "execution_count": 9,
   "metadata": {
    "scrolled": true
   },
   "outputs": [
    {
     "name": "stdout",
     "output_type": "stream",
     "text": [
      "Epoch 1/200\n",
      "668/669 [============================>.] - ETA: 0s - loss: 1.0389\n",
      "Epoch 00001: loss improved from inf to 1.03885, saving model to model_4.hdf5\n",
      "669/669 [==============================] - 263s 394ms/step - loss: 1.0388\n",
      "Epoch 2/200\n",
      "668/669 [============================>.] - ETA: 0s - loss: 0.5186\n",
      "Epoch 00002: loss improved from 1.03885 to 0.51862, saving model to model_4.hdf5\n",
      "669/669 [==============================] - 246s 367ms/step - loss: 0.5186\n",
      "Epoch 3/200\n",
      "668/669 [============================>.] - ETA: 0s - loss: 0.3886\n",
      "Epoch 00003: loss improved from 0.51862 to 0.38867, saving model to model_4.hdf5\n",
      "669/669 [==============================] - 201s 301ms/step - loss: 0.3887\n",
      "Epoch 4/200\n",
      "668/669 [============================>.] - ETA: 0s - loss: 0.3317\n",
      "Epoch 00004: loss improved from 0.38867 to 0.33176, saving model to model_4.hdf5\n",
      "669/669 [==============================] - 193s 288ms/step - loss: 0.3318\n",
      "Epoch 5/200\n",
      "668/669 [============================>.] - ETA: 0s - loss: 0.2980\n",
      "Epoch 00005: loss improved from 0.33176 to 0.29799, saving model to model_4.hdf5\n",
      "669/669 [==============================] - 205s 307ms/step - loss: 0.2980\n",
      "Epoch 6/200\n",
      "668/669 [============================>.] - ETA: 0s - loss: 0.2716\n",
      "Epoch 00006: loss improved from 0.29799 to 0.27160, saving model to model_4.hdf5\n",
      "669/669 [==============================] - 190s 285ms/step - loss: 0.2716\n",
      "Epoch 7/200\n",
      "668/669 [============================>.] - ETA: 0s - loss: 0.2546\n",
      "Epoch 00007: loss improved from 0.27160 to 0.25455, saving model to model_4.hdf5\n",
      "669/669 [==============================] - 179s 268ms/step - loss: 0.2546\n",
      "Epoch 8/200\n",
      "668/669 [============================>.] - ETA: 0s - loss: 0.2412\n",
      "Epoch 00008: loss improved from 0.25455 to 0.24117, saving model to model_4.hdf5\n",
      "669/669 [==============================] - 179s 268ms/step - loss: 0.2412\n",
      "Epoch 9/200\n",
      "668/669 [============================>.] - ETA: 0s - loss: 0.2279\n",
      "Epoch 00009: loss improved from 0.24117 to 0.22793, saving model to model_4.hdf5\n",
      "669/669 [==============================] - 177s 264ms/step - loss: 0.2279\n",
      "Epoch 10/200\n",
      "668/669 [============================>.] - ETA: 0s - loss: 0.2202\n",
      "Epoch 00010: loss improved from 0.22793 to 0.22015, saving model to model_4.hdf5\n",
      "669/669 [==============================] - 180s 270ms/step - loss: 0.2202\n",
      "Epoch 11/200\n",
      "668/669 [============================>.] - ETA: 0s - loss: 0.2083\n",
      "Epoch 00011: loss improved from 0.22015 to 0.20829, saving model to model_4.hdf5\n",
      "669/669 [==============================] - 177s 265ms/step - loss: 0.2083\n",
      "Epoch 12/200\n",
      "668/669 [============================>.] - ETA: 0s - loss: 0.2025\n",
      "Epoch 00012: loss improved from 0.20829 to 0.20253, saving model to model_4.hdf5\n",
      "669/669 [==============================] - 177s 265ms/step - loss: 0.2025\n",
      "Epoch 13/200\n",
      "668/669 [============================>.] - ETA: 0s - loss: 0.1945\n",
      "Epoch 00013: loss improved from 0.20253 to 0.19448, saving model to model_4.hdf5\n",
      "669/669 [==============================] - 178s 265ms/step - loss: 0.1945\n",
      "Epoch 14/200\n",
      "668/669 [============================>.] - ETA: 0s - loss: 0.1891\n",
      "Epoch 00014: loss improved from 0.19448 to 0.18909, saving model to model_4.hdf5\n",
      "669/669 [==============================] - 185s 276ms/step - loss: 0.1891\n",
      "Epoch 15/200\n",
      "668/669 [============================>.] - ETA: 0s - loss: 0.1811\n",
      "Epoch 00015: loss improved from 0.18909 to 0.18112, saving model to model_4.hdf5\n",
      "669/669 [==============================] - 184s 275ms/step - loss: 0.1811\n",
      "Epoch 16/200\n",
      "668/669 [============================>.] - ETA: 0s - loss: 0.1776\n",
      "Epoch 00016: loss improved from 0.18112 to 0.17762, saving model to model_4.hdf5\n",
      "669/669 [==============================] - 207s 310ms/step - loss: 0.1776\n",
      "Epoch 17/200\n",
      "668/669 [============================>.] - ETA: 0s - loss: 0.1729\n",
      "Epoch 00017: loss improved from 0.17762 to 0.17286, saving model to model_4.hdf5\n",
      "669/669 [==============================] - 205s 306ms/step - loss: 0.1729\n",
      "Epoch 18/200\n",
      "668/669 [============================>.] - ETA: 0s - loss: 0.1681\n",
      "Epoch 00018: loss improved from 0.17286 to 0.16804, saving model to model_4.hdf5\n",
      "669/669 [==============================] - 204s 305ms/step - loss: 0.1680\n",
      "Epoch 19/200\n",
      "668/669 [============================>.] - ETA: 0s - loss: 0.1632\n",
      "Epoch 00019: loss improved from 0.16804 to 0.16323, saving model to model_4.hdf5\n",
      "669/669 [==============================] - 206s 308ms/step - loss: 0.1632\n",
      "Epoch 20/200\n",
      "668/669 [============================>.] - ETA: 0s - loss: 0.1613\n",
      "Epoch 00020: loss improved from 0.16323 to 0.16127, saving model to model_4.hdf5\n",
      "669/669 [==============================] - 202s 302ms/step - loss: 0.1613\n",
      "Epoch 21/200\n",
      "668/669 [============================>.] - ETA: 0s - loss: 0.1571\n",
      "Epoch 00021: loss improved from 0.16127 to 0.15708, saving model to model_4.hdf5\n",
      "669/669 [==============================] - 201s 300ms/step - loss: 0.1571\n",
      "Epoch 22/200\n",
      "668/669 [============================>.] - ETA: 0s - loss: 0.1510\n",
      "Epoch 00022: loss improved from 0.15708 to 0.15099, saving model to model_4.hdf5\n",
      "669/669 [==============================] - 198s 296ms/step - loss: 0.1510\n",
      "Epoch 23/200\n",
      "668/669 [============================>.] - ETA: 0s - loss: 0.1477\n",
      "Epoch 00023: loss improved from 0.15099 to 0.14783, saving model to model_4.hdf5\n",
      "669/669 [==============================] - 184s 275ms/step - loss: 0.1478\n",
      "Epoch 24/200\n",
      "668/669 [============================>.] - ETA: 0s - loss: 0.1497\n",
      "Epoch 00024: loss did not improve from 0.14783\n",
      "669/669 [==============================] - 190s 284ms/step - loss: 0.1497\n",
      "Epoch 25/200\n",
      "668/669 [============================>.] - ETA: 0s - loss: 0.1414\n",
      "Epoch 00025: loss improved from 0.14783 to 0.14144, saving model to model_4.hdf5\n",
      "669/669 [==============================] - 187s 279ms/step - loss: 0.1414\n",
      "Epoch 26/200\n",
      "668/669 [============================>.] - ETA: 0s - loss: 0.1391\n",
      "Epoch 00026: loss improved from 0.14144 to 0.13911, saving model to model_4.hdf5\n",
      "669/669 [==============================] - 181s 270ms/step - loss: 0.1391\n",
      "Epoch 27/200\n",
      "668/669 [============================>.] - ETA: 0s - loss: 0.1364\n",
      "Epoch 00027: loss improved from 0.13911 to 0.13639, saving model to model_4.hdf5\n",
      "669/669 [==============================] - 184s 275ms/step - loss: 0.1364\n",
      "Epoch 28/200\n",
      "668/669 [============================>.] - ETA: 0s - loss: 0.1345\n",
      "Epoch 00028: loss improved from 0.13639 to 0.13455, saving model to model_4.hdf5\n",
      "669/669 [==============================] - 187s 279ms/step - loss: 0.1346\n",
      "Epoch 29/200\n",
      "668/669 [============================>.] - ETA: 0s - loss: 0.1332\n",
      "Epoch 00029: loss improved from 0.13455 to 0.13322, saving model to model_4.hdf5\n",
      "669/669 [==============================] - 187s 279ms/step - loss: 0.1332\n",
      "Epoch 30/200\n",
      "668/669 [============================>.] - ETA: 0s - loss: 0.1291\n",
      "Epoch 00030: loss improved from 0.13322 to 0.12910, saving model to model_4.hdf5\n",
      "669/669 [==============================] - 182s 272ms/step - loss: 0.1291\n",
      "Epoch 31/200\n",
      "668/669 [============================>.] - ETA: 0s - loss: 0.1263\n",
      "Epoch 00031: loss improved from 0.12910 to 0.12632, saving model to model_4.hdf5\n",
      "669/669 [==============================] - 179s 267ms/step - loss: 0.1263\n",
      "Epoch 32/200\n",
      "668/669 [============================>.] - ETA: 0s - loss: 0.1234\n",
      "Epoch 00032: loss improved from 0.12632 to 0.12339, saving model to model_4.hdf5\n",
      "669/669 [==============================] - 191s 285ms/step - loss: 0.1234\n",
      "Epoch 33/200\n",
      "668/669 [============================>.] - ETA: 0s - loss: 0.1217\n",
      "Epoch 00033: loss improved from 0.12339 to 0.12174, saving model to model_4.hdf5\n",
      "669/669 [==============================] - 189s 282ms/step - loss: 0.1217\n",
      "Epoch 34/200\n",
      "668/669 [============================>.] - ETA: 0s - loss: 0.1188\n",
      "Epoch 00034: loss improved from 0.12174 to 0.11884, saving model to model_4.hdf5\n",
      "669/669 [==============================] - 191s 285ms/step - loss: 0.1188\n",
      "Epoch 35/200\n",
      "668/669 [============================>.] - ETA: 0s - loss: 0.1173\n",
      "Epoch 00035: loss improved from 0.11884 to 0.11727, saving model to model_4.hdf5\n",
      "669/669 [==============================] - 197s 295ms/step - loss: 0.1173\n",
      "Epoch 36/200\n",
      "668/669 [============================>.] - ETA: 0s - loss: 0.1167\n",
      "Epoch 00036: loss improved from 0.11727 to 0.11676, saving model to model_4.hdf5\n",
      "669/669 [==============================] - 206s 307ms/step - loss: 0.1168\n",
      "Epoch 37/200\n",
      "668/669 [============================>.] - ETA: 0s - loss: 0.1156\n",
      "Epoch 00037: loss improved from 0.11676 to 0.11561, saving model to model_4.hdf5\n",
      "669/669 [==============================] - 192s 286ms/step - loss: 0.1156\n",
      "Epoch 38/200\n",
      "668/669 [============================>.] - ETA: 0s - loss: 0.1111\n",
      "Epoch 00038: loss improved from 0.11561 to 0.11107, saving model to model_4.hdf5\n",
      "669/669 [==============================] - 197s 295ms/step - loss: 0.1111\n",
      "Epoch 39/200\n",
      "668/669 [============================>.] - ETA: 0s - loss: 0.1090\n",
      "Epoch 00039: loss improved from 0.11107 to 0.10897, saving model to model_4.hdf5\n",
      "669/669 [==============================] - 181s 271ms/step - loss: 0.1090\n",
      "Epoch 40/200\n",
      "668/669 [============================>.] - ETA: 0s - loss: 0.1060\n",
      "Epoch 00040: loss improved from 0.10897 to 0.10599, saving model to model_4.hdf5\n",
      "669/669 [==============================] - 195s 291ms/step - loss: 0.1060\n",
      "Epoch 41/200\n",
      "668/669 [============================>.] - ETA: 0s - loss: 0.1046\n",
      "Epoch 00041: loss improved from 0.10599 to 0.10461, saving model to model_4.hdf5\n",
      "669/669 [==============================] - 204s 305ms/step - loss: 0.1046\n",
      "Epoch 42/200\n",
      "668/669 [============================>.] - ETA: 0s - loss: 0.1039\n",
      "Epoch 00042: loss improved from 0.10461 to 0.10393, saving model to model_4.hdf5\n",
      "669/669 [==============================] - 205s 307ms/step - loss: 0.1039\n",
      "Epoch 43/200\n",
      "668/669 [============================>.] - ETA: 0s - loss: 0.1006\n",
      "Epoch 00043: loss improved from 0.10393 to 0.10057, saving model to model_4.hdf5\n",
      "669/669 [==============================] - 210s 314ms/step - loss: 0.1006\n",
      "Epoch 44/200\n",
      "668/669 [============================>.] - ETA: 0s - loss: 0.0988\n",
      "Epoch 00044: loss improved from 0.10057 to 0.09875, saving model to model_4.hdf5\n",
      "669/669 [==============================] - 193s 288ms/step - loss: 0.0988\n",
      "Epoch 45/200\n",
      "668/669 [============================>.] - ETA: 0s - loss: 0.0989\n",
      "Epoch 00045: loss did not improve from 0.09875\n",
      "669/669 [==============================] - 195s 292ms/step - loss: 0.0989\n",
      "Epoch 46/200\n",
      "668/669 [============================>.] - ETA: 0s - loss: 0.0960\n",
      "Epoch 00046: loss improved from 0.09875 to 0.09595, saving model to model_4.hdf5\n",
      "669/669 [==============================] - 207s 309ms/step - loss: 0.0960\n",
      "Epoch 47/200\n",
      "668/669 [============================>.] - ETA: 0s - loss: 0.0942\n",
      "Epoch 00047: loss improved from 0.09595 to 0.09420, saving model to model_4.hdf5\n",
      "669/669 [==============================] - 186s 279ms/step - loss: 0.0942\n",
      "Epoch 48/200\n",
      "668/669 [============================>.] - ETA: 0s - loss: 0.0919\n",
      "Epoch 00048: loss improved from 0.09420 to 0.09186, saving model to model_4.hdf5\n",
      "669/669 [==============================] - 206s 308ms/step - loss: 0.0919\n",
      "Epoch 49/200\n",
      "668/669 [============================>.] - ETA: 0s - loss: 0.0921\n",
      "Epoch 00049: loss did not improve from 0.09186\n",
      "669/669 [==============================] - 198s 295ms/step - loss: 0.0921\n",
      "Epoch 50/200\n",
      "668/669 [============================>.] - ETA: 0s - loss: 0.0889\n",
      "Epoch 00050: loss improved from 0.09186 to 0.08891, saving model to model_4.hdf5\n",
      "669/669 [==============================] - 193s 288ms/step - loss: 0.0889\n",
      "Epoch 51/200\n",
      "668/669 [============================>.] - ETA: 0s - loss: 0.0869\n",
      "Epoch 00051: loss improved from 0.08891 to 0.08693, saving model to model_4.hdf5\n",
      "669/669 [==============================] - 191s 286ms/step - loss: 0.0869\n",
      "Epoch 52/200\n",
      "668/669 [============================>.] - ETA: 0s - loss: 0.0862\n",
      "Epoch 00052: loss improved from 0.08693 to 0.08619, saving model to model_4.hdf5\n",
      "669/669 [==============================] - 188s 281ms/step - loss: 0.0862\n",
      "Epoch 53/200\n",
      "668/669 [============================>.] - ETA: 0s - loss: 0.0859\n",
      "Epoch 00053: loss improved from 0.08619 to 0.08585, saving model to model_4.hdf5\n",
      "669/669 [==============================] - 209s 313ms/step - loss: 0.0858\n",
      "Epoch 54/200\n",
      "668/669 [============================>.] - ETA: 0s - loss: 0.0845\n",
      "Epoch 00054: loss improved from 0.08585 to 0.08455, saving model to model_4.hdf5\n",
      "669/669 [==============================] - 198s 295ms/step - loss: 0.0846\n",
      "Epoch 55/200\n",
      "668/669 [============================>.] - ETA: 0s - loss: 0.0919\n",
      "Epoch 00055: loss did not improve from 0.08455\n",
      "669/669 [==============================] - 188s 281ms/step - loss: 0.0919\n",
      "Epoch 56/200\n",
      "668/669 [============================>.] - ETA: 0s - loss: 0.0793\n",
      "Epoch 00056: loss improved from 0.08455 to 0.07934, saving model to model_4.hdf5\n",
      "669/669 [==============================] - 185s 277ms/step - loss: 0.0793\n",
      "Epoch 57/200\n",
      "668/669 [============================>.] - ETA: 0s - loss: 0.0780\n",
      "Epoch 00057: loss improved from 0.07934 to 0.07795, saving model to model_4.hdf5\n",
      "669/669 [==============================] - 189s 283ms/step - loss: 0.0779\n",
      "Epoch 58/200\n",
      "668/669 [============================>.] - ETA: 0s - loss: 0.0778\n",
      "Epoch 00058: loss improved from 0.07795 to 0.07783, saving model to model_4.hdf5\n",
      "669/669 [==============================] - 184s 275ms/step - loss: 0.0778\n",
      "Epoch 59/200\n",
      "538/669 [=======================>......] - ETA: 38s - loss: 0.0770"
     ]
    },
    {
     "ename": "KeyboardInterrupt",
     "evalue": "",
     "output_type": "error",
     "traceback": [
      "\u001b[0;31m---------------------------------------------------------------------------\u001b[0m",
      "\u001b[0;31mKeyboardInterrupt\u001b[0m                         Traceback (most recent call last)",
      "\u001b[0;32m<ipython-input-9-35059b6937f2>\u001b[0m in \u001b[0;36m<module>\u001b[0;34m\u001b[0m\n\u001b[1;32m      9\u001b[0m                             save_weights_only=False, mode=\"min\",save_freq=\"epoch\",options=None)\n\u001b[1;32m     10\u001b[0m             ]\n\u001b[0;32m---> 11\u001b[0;31m \u001b[0mmodel\u001b[0m\u001b[0;34m.\u001b[0m\u001b[0mfit\u001b[0m\u001b[0;34m(\u001b[0m\u001b[0mdataset_train\u001b[0m\u001b[0;34m,\u001b[0m \u001b[0mepochs\u001b[0m\u001b[0;34m=\u001b[0m\u001b[0;36m200\u001b[0m\u001b[0;34m,\u001b[0m \u001b[0mcallbacks\u001b[0m\u001b[0;34m=\u001b[0m\u001b[0mcallbacks\u001b[0m\u001b[0;34m)\u001b[0m\u001b[0;34m\u001b[0m\u001b[0;34m\u001b[0m\u001b[0m\n\u001b[0m\u001b[1;32m     12\u001b[0m \u001b[0;34m\u001b[0m\u001b[0m\n\u001b[1;32m     13\u001b[0m \u001b[0;31m# eine epoche besteht hier nur aus einem batch! wirklich?\u001b[0m\u001b[0;34m\u001b[0m\u001b[0;34m\u001b[0m\u001b[0;34m\u001b[0m\u001b[0m\n",
      "\u001b[0;32m~/.pyenv/versions/keywords2/lib/python3.7/site-packages/tensorflow/python/keras/engine/training.py\u001b[0m in \u001b[0;36m_method_wrapper\u001b[0;34m(self, *args, **kwargs)\u001b[0m\n\u001b[1;32m    106\u001b[0m   \u001b[0;32mdef\u001b[0m \u001b[0m_method_wrapper\u001b[0m\u001b[0;34m(\u001b[0m\u001b[0mself\u001b[0m\u001b[0;34m,\u001b[0m \u001b[0;34m*\u001b[0m\u001b[0margs\u001b[0m\u001b[0;34m,\u001b[0m \u001b[0;34m**\u001b[0m\u001b[0mkwargs\u001b[0m\u001b[0;34m)\u001b[0m\u001b[0;34m:\u001b[0m\u001b[0;34m\u001b[0m\u001b[0;34m\u001b[0m\u001b[0m\n\u001b[1;32m    107\u001b[0m     \u001b[0;32mif\u001b[0m \u001b[0;32mnot\u001b[0m \u001b[0mself\u001b[0m\u001b[0;34m.\u001b[0m\u001b[0m_in_multi_worker_mode\u001b[0m\u001b[0;34m(\u001b[0m\u001b[0;34m)\u001b[0m\u001b[0;34m:\u001b[0m  \u001b[0;31m# pylint: disable=protected-access\u001b[0m\u001b[0;34m\u001b[0m\u001b[0;34m\u001b[0m\u001b[0m\n\u001b[0;32m--> 108\u001b[0;31m       \u001b[0;32mreturn\u001b[0m \u001b[0mmethod\u001b[0m\u001b[0;34m(\u001b[0m\u001b[0mself\u001b[0m\u001b[0;34m,\u001b[0m \u001b[0;34m*\u001b[0m\u001b[0margs\u001b[0m\u001b[0;34m,\u001b[0m \u001b[0;34m**\u001b[0m\u001b[0mkwargs\u001b[0m\u001b[0;34m)\u001b[0m\u001b[0;34m\u001b[0m\u001b[0;34m\u001b[0m\u001b[0m\n\u001b[0m\u001b[1;32m    109\u001b[0m \u001b[0;34m\u001b[0m\u001b[0m\n\u001b[1;32m    110\u001b[0m     \u001b[0;31m# Running inside `run_distribute_coordinator` already.\u001b[0m\u001b[0;34m\u001b[0m\u001b[0;34m\u001b[0m\u001b[0;34m\u001b[0m\u001b[0m\n",
      "\u001b[0;32m~/.pyenv/versions/keywords2/lib/python3.7/site-packages/tensorflow/python/keras/engine/training.py\u001b[0m in \u001b[0;36mfit\u001b[0;34m(self, x, y, batch_size, epochs, verbose, callbacks, validation_split, validation_data, shuffle, class_weight, sample_weight, initial_epoch, steps_per_epoch, validation_steps, validation_batch_size, validation_freq, max_queue_size, workers, use_multiprocessing)\u001b[0m\n\u001b[1;32m   1096\u001b[0m                 batch_size=batch_size):\n\u001b[1;32m   1097\u001b[0m               \u001b[0mcallbacks\u001b[0m\u001b[0;34m.\u001b[0m\u001b[0mon_train_batch_begin\u001b[0m\u001b[0;34m(\u001b[0m\u001b[0mstep\u001b[0m\u001b[0;34m)\u001b[0m\u001b[0;34m\u001b[0m\u001b[0;34m\u001b[0m\u001b[0m\n\u001b[0;32m-> 1098\u001b[0;31m               \u001b[0mtmp_logs\u001b[0m \u001b[0;34m=\u001b[0m \u001b[0mtrain_function\u001b[0m\u001b[0;34m(\u001b[0m\u001b[0miterator\u001b[0m\u001b[0;34m)\u001b[0m\u001b[0;34m\u001b[0m\u001b[0;34m\u001b[0m\u001b[0m\n\u001b[0m\u001b[1;32m   1099\u001b[0m               \u001b[0;32mif\u001b[0m \u001b[0mdata_handler\u001b[0m\u001b[0;34m.\u001b[0m\u001b[0mshould_sync\u001b[0m\u001b[0;34m:\u001b[0m\u001b[0;34m\u001b[0m\u001b[0;34m\u001b[0m\u001b[0m\n\u001b[1;32m   1100\u001b[0m                 \u001b[0mcontext\u001b[0m\u001b[0;34m.\u001b[0m\u001b[0masync_wait\u001b[0m\u001b[0;34m(\u001b[0m\u001b[0;34m)\u001b[0m\u001b[0;34m\u001b[0m\u001b[0;34m\u001b[0m\u001b[0m\n",
      "\u001b[0;32m~/.pyenv/versions/keywords2/lib/python3.7/site-packages/tensorflow/python/eager/def_function.py\u001b[0m in \u001b[0;36m__call__\u001b[0;34m(self, *args, **kwds)\u001b[0m\n\u001b[1;32m    778\u001b[0m       \u001b[0;32melse\u001b[0m\u001b[0;34m:\u001b[0m\u001b[0;34m\u001b[0m\u001b[0;34m\u001b[0m\u001b[0m\n\u001b[1;32m    779\u001b[0m         \u001b[0mcompiler\u001b[0m \u001b[0;34m=\u001b[0m \u001b[0;34m\"nonXla\"\u001b[0m\u001b[0;34m\u001b[0m\u001b[0;34m\u001b[0m\u001b[0m\n\u001b[0;32m--> 780\u001b[0;31m         \u001b[0mresult\u001b[0m \u001b[0;34m=\u001b[0m \u001b[0mself\u001b[0m\u001b[0;34m.\u001b[0m\u001b[0m_call\u001b[0m\u001b[0;34m(\u001b[0m\u001b[0;34m*\u001b[0m\u001b[0margs\u001b[0m\u001b[0;34m,\u001b[0m \u001b[0;34m**\u001b[0m\u001b[0mkwds\u001b[0m\u001b[0;34m)\u001b[0m\u001b[0;34m\u001b[0m\u001b[0;34m\u001b[0m\u001b[0m\n\u001b[0m\u001b[1;32m    781\u001b[0m \u001b[0;34m\u001b[0m\u001b[0m\n\u001b[1;32m    782\u001b[0m       \u001b[0mnew_tracing_count\u001b[0m \u001b[0;34m=\u001b[0m \u001b[0mself\u001b[0m\u001b[0;34m.\u001b[0m\u001b[0m_get_tracing_count\u001b[0m\u001b[0;34m(\u001b[0m\u001b[0;34m)\u001b[0m\u001b[0;34m\u001b[0m\u001b[0;34m\u001b[0m\u001b[0m\n",
      "\u001b[0;32m~/.pyenv/versions/keywords2/lib/python3.7/site-packages/tensorflow/python/eager/def_function.py\u001b[0m in \u001b[0;36m_call\u001b[0;34m(self, *args, **kwds)\u001b[0m\n\u001b[1;32m    805\u001b[0m       \u001b[0;31m# In this case we have created variables on the first call, so we run the\u001b[0m\u001b[0;34m\u001b[0m\u001b[0;34m\u001b[0m\u001b[0;34m\u001b[0m\u001b[0m\n\u001b[1;32m    806\u001b[0m       \u001b[0;31m# defunned version which is guaranteed to never create variables.\u001b[0m\u001b[0;34m\u001b[0m\u001b[0;34m\u001b[0m\u001b[0;34m\u001b[0m\u001b[0m\n\u001b[0;32m--> 807\u001b[0;31m       \u001b[0;32mreturn\u001b[0m \u001b[0mself\u001b[0m\u001b[0;34m.\u001b[0m\u001b[0m_stateless_fn\u001b[0m\u001b[0;34m(\u001b[0m\u001b[0;34m*\u001b[0m\u001b[0margs\u001b[0m\u001b[0;34m,\u001b[0m \u001b[0;34m**\u001b[0m\u001b[0mkwds\u001b[0m\u001b[0;34m)\u001b[0m  \u001b[0;31m# pylint: disable=not-callable\u001b[0m\u001b[0;34m\u001b[0m\u001b[0;34m\u001b[0m\u001b[0m\n\u001b[0m\u001b[1;32m    808\u001b[0m     \u001b[0;32melif\u001b[0m \u001b[0mself\u001b[0m\u001b[0;34m.\u001b[0m\u001b[0m_stateful_fn\u001b[0m \u001b[0;32mis\u001b[0m \u001b[0;32mnot\u001b[0m \u001b[0;32mNone\u001b[0m\u001b[0;34m:\u001b[0m\u001b[0;34m\u001b[0m\u001b[0;34m\u001b[0m\u001b[0m\n\u001b[1;32m    809\u001b[0m       \u001b[0;31m# Release the lock early so that multiple threads can perform the call\u001b[0m\u001b[0;34m\u001b[0m\u001b[0;34m\u001b[0m\u001b[0;34m\u001b[0m\u001b[0m\n",
      "\u001b[0;32m~/.pyenv/versions/keywords2/lib/python3.7/site-packages/tensorflow/python/eager/function.py\u001b[0m in \u001b[0;36m__call__\u001b[0;34m(self, *args, **kwargs)\u001b[0m\n\u001b[1;32m   2827\u001b[0m     \u001b[0;32mwith\u001b[0m \u001b[0mself\u001b[0m\u001b[0;34m.\u001b[0m\u001b[0m_lock\u001b[0m\u001b[0;34m:\u001b[0m\u001b[0;34m\u001b[0m\u001b[0;34m\u001b[0m\u001b[0m\n\u001b[1;32m   2828\u001b[0m       \u001b[0mgraph_function\u001b[0m\u001b[0;34m,\u001b[0m \u001b[0margs\u001b[0m\u001b[0;34m,\u001b[0m \u001b[0mkwargs\u001b[0m \u001b[0;34m=\u001b[0m \u001b[0mself\u001b[0m\u001b[0;34m.\u001b[0m\u001b[0m_maybe_define_function\u001b[0m\u001b[0;34m(\u001b[0m\u001b[0margs\u001b[0m\u001b[0;34m,\u001b[0m \u001b[0mkwargs\u001b[0m\u001b[0;34m)\u001b[0m\u001b[0;34m\u001b[0m\u001b[0;34m\u001b[0m\u001b[0m\n\u001b[0;32m-> 2829\u001b[0;31m     \u001b[0;32mreturn\u001b[0m \u001b[0mgraph_function\u001b[0m\u001b[0;34m.\u001b[0m\u001b[0m_filtered_call\u001b[0m\u001b[0;34m(\u001b[0m\u001b[0margs\u001b[0m\u001b[0;34m,\u001b[0m \u001b[0mkwargs\u001b[0m\u001b[0;34m)\u001b[0m  \u001b[0;31m# pylint: disable=protected-access\u001b[0m\u001b[0;34m\u001b[0m\u001b[0;34m\u001b[0m\u001b[0m\n\u001b[0m\u001b[1;32m   2830\u001b[0m \u001b[0;34m\u001b[0m\u001b[0m\n\u001b[1;32m   2831\u001b[0m   \u001b[0;34m@\u001b[0m\u001b[0mproperty\u001b[0m\u001b[0;34m\u001b[0m\u001b[0;34m\u001b[0m\u001b[0m\n",
      "\u001b[0;32m~/.pyenv/versions/keywords2/lib/python3.7/site-packages/tensorflow/python/eager/function.py\u001b[0m in \u001b[0;36m_filtered_call\u001b[0;34m(self, args, kwargs, cancellation_manager)\u001b[0m\n\u001b[1;32m   1846\u001b[0m                            resource_variable_ops.BaseResourceVariable))],\n\u001b[1;32m   1847\u001b[0m         \u001b[0mcaptured_inputs\u001b[0m\u001b[0;34m=\u001b[0m\u001b[0mself\u001b[0m\u001b[0;34m.\u001b[0m\u001b[0mcaptured_inputs\u001b[0m\u001b[0;34m,\u001b[0m\u001b[0;34m\u001b[0m\u001b[0;34m\u001b[0m\u001b[0m\n\u001b[0;32m-> 1848\u001b[0;31m         cancellation_manager=cancellation_manager)\n\u001b[0m\u001b[1;32m   1849\u001b[0m \u001b[0;34m\u001b[0m\u001b[0m\n\u001b[1;32m   1850\u001b[0m   \u001b[0;32mdef\u001b[0m \u001b[0m_call_flat\u001b[0m\u001b[0;34m(\u001b[0m\u001b[0mself\u001b[0m\u001b[0;34m,\u001b[0m \u001b[0margs\u001b[0m\u001b[0;34m,\u001b[0m \u001b[0mcaptured_inputs\u001b[0m\u001b[0;34m,\u001b[0m \u001b[0mcancellation_manager\u001b[0m\u001b[0;34m=\u001b[0m\u001b[0;32mNone\u001b[0m\u001b[0;34m)\u001b[0m\u001b[0;34m:\u001b[0m\u001b[0;34m\u001b[0m\u001b[0;34m\u001b[0m\u001b[0m\n",
      "\u001b[0;32m~/.pyenv/versions/keywords2/lib/python3.7/site-packages/tensorflow/python/eager/function.py\u001b[0m in \u001b[0;36m_call_flat\u001b[0;34m(self, args, captured_inputs, cancellation_manager)\u001b[0m\n\u001b[1;32m   1922\u001b[0m       \u001b[0;31m# No tape is watching; skip to running the function.\u001b[0m\u001b[0;34m\u001b[0m\u001b[0;34m\u001b[0m\u001b[0;34m\u001b[0m\u001b[0m\n\u001b[1;32m   1923\u001b[0m       return self._build_call_outputs(self._inference_function.call(\n\u001b[0;32m-> 1924\u001b[0;31m           ctx, args, cancellation_manager=cancellation_manager))\n\u001b[0m\u001b[1;32m   1925\u001b[0m     forward_backward = self._select_forward_and_backward_functions(\n\u001b[1;32m   1926\u001b[0m         \u001b[0margs\u001b[0m\u001b[0;34m,\u001b[0m\u001b[0;34m\u001b[0m\u001b[0;34m\u001b[0m\u001b[0m\n",
      "\u001b[0;32m~/.pyenv/versions/keywords2/lib/python3.7/site-packages/tensorflow/python/eager/function.py\u001b[0m in \u001b[0;36mcall\u001b[0;34m(self, ctx, args, cancellation_manager)\u001b[0m\n\u001b[1;32m    548\u001b[0m               \u001b[0minputs\u001b[0m\u001b[0;34m=\u001b[0m\u001b[0margs\u001b[0m\u001b[0;34m,\u001b[0m\u001b[0;34m\u001b[0m\u001b[0;34m\u001b[0m\u001b[0m\n\u001b[1;32m    549\u001b[0m               \u001b[0mattrs\u001b[0m\u001b[0;34m=\u001b[0m\u001b[0mattrs\u001b[0m\u001b[0;34m,\u001b[0m\u001b[0;34m\u001b[0m\u001b[0;34m\u001b[0m\u001b[0m\n\u001b[0;32m--> 550\u001b[0;31m               ctx=ctx)\n\u001b[0m\u001b[1;32m    551\u001b[0m         \u001b[0;32melse\u001b[0m\u001b[0;34m:\u001b[0m\u001b[0;34m\u001b[0m\u001b[0;34m\u001b[0m\u001b[0m\n\u001b[1;32m    552\u001b[0m           outputs = execute.execute_with_cancellation(\n",
      "\u001b[0;32m~/.pyenv/versions/keywords2/lib/python3.7/site-packages/tensorflow/python/eager/execute.py\u001b[0m in \u001b[0;36mquick_execute\u001b[0;34m(op_name, num_outputs, inputs, attrs, ctx, name)\u001b[0m\n\u001b[1;32m     58\u001b[0m     \u001b[0mctx\u001b[0m\u001b[0;34m.\u001b[0m\u001b[0mensure_initialized\u001b[0m\u001b[0;34m(\u001b[0m\u001b[0;34m)\u001b[0m\u001b[0;34m\u001b[0m\u001b[0;34m\u001b[0m\u001b[0m\n\u001b[1;32m     59\u001b[0m     tensors = pywrap_tfe.TFE_Py_Execute(ctx._handle, device_name, op_name,\n\u001b[0;32m---> 60\u001b[0;31m                                         inputs, attrs, num_outputs)\n\u001b[0m\u001b[1;32m     61\u001b[0m   \u001b[0;32mexcept\u001b[0m \u001b[0mcore\u001b[0m\u001b[0;34m.\u001b[0m\u001b[0m_NotOkStatusException\u001b[0m \u001b[0;32mas\u001b[0m \u001b[0me\u001b[0m\u001b[0;34m:\u001b[0m\u001b[0;34m\u001b[0m\u001b[0;34m\u001b[0m\u001b[0m\n\u001b[1;32m     62\u001b[0m     \u001b[0;32mif\u001b[0m \u001b[0mname\u001b[0m \u001b[0;32mis\u001b[0m \u001b[0;32mnot\u001b[0m \u001b[0;32mNone\u001b[0m\u001b[0;34m:\u001b[0m\u001b[0;34m\u001b[0m\u001b[0;34m\u001b[0m\u001b[0m\n",
      "\u001b[0;31mKeyboardInterrupt\u001b[0m: "
     ]
    }
   ],
   "source": [
    "from tensorflow.keras.callbacks import EarlyStopping, ModelCheckpoint\n",
    "\n",
    "# better to use iterator generators\n",
    "#model.fit(dataset_1, validation_data=dataset_validation, validation_batch_size=128, epochs=40)\n",
    "model_nr = str(4)\n",
    "model_path = \"model_\"+model_nr+\".hdf5\"\n",
    "\n",
    "callbacks = [EarlyStopping(monitor=\"loss\", patience=10, verbose=1, mode=\"auto\", restore_best_weights=True),\n",
    "            ModelCheckpoint(model_path, monitor=\"loss\", verbose=1, save_best_only=True,\n",
    "                            save_weights_only=False, mode=\"min\",save_freq=\"epoch\",options=None)\n",
    "            ]\n",
    "model.fit(dataset_train, epochs=200, callbacks=callbacks)\n",
    "\n",
    "# eine epoche besteht hier nur aus einem batch! wirklich?"
   ]
  },
  {
   "cell_type": "markdown",
   "metadata": {},
   "source": [
    "## Testing\n",
    "\n",
    "Time of truth, ladies and gents, we're now using our model to predict the words of previously unseen audio!\n",
    "\n",
    "Simple as it is, we feed our test and validation set into the model and compare its output to the actual labels, voila! Not much else to say here.\n",
    "\n",
    "Maybe a couple words on the deployment. Following lines of code would be the bedrock of a keyword recognition software. Of course we still have to preprocess the data, but the rest of the main logic relies on these few lines of code. What to do if a specific keyword is recognized, well thats a question for another time (or use case)."
   ]
  },
  {
   "cell_type": "code",
   "execution_count": 62,
   "metadata": {},
   "outputs": [],
   "source": [
    "import numpy as np\n",
    "\n",
    "def calc_acc(predictions, dataset):\n",
    "    total, correct = 0, 0\n",
    "    index = 0\n",
    "\n",
    "    for batch in dataset:\n",
    "        for b_ele in batch[1]:\n",
    "            #print(b_ele)\n",
    "            total += 1\n",
    "            if b_ele == np.argmax(predictions[index]):\n",
    "                correct += 1\n",
    "            index += 1\n",
    "\n",
    "\n",
    "    print(\"{} out of {} correct, resulting in an accuracy of {}\\n\".format(correct, total, (correct/total)*100))  "
   ]
  },
  {
   "cell_type": "code",
   "execution_count": 70,
   "metadata": {},
   "outputs": [
    {
     "name": "stdout",
     "output_type": "stream",
     "text": [
      "79/79 [==============================] - 44s 551ms/step\n",
      "39/39 [==============================] - 21s 530ms/step\n"
     ]
    }
   ],
   "source": [
    "preds_val = model.predict(dataset_validation, verbose=1)\n",
    "preds_test = model.predict(dataset_test, verbose=1)\n"
   ]
  },
  {
   "cell_type": "markdown",
   "metadata": {},
   "source": [
    "#### Tip of the day:\n",
    "\n",
    "It's always a good idea to make three checks when working with data in general:\n",
    "- What data type are you getting?\n",
    "- What data shape are you getting?\n",
    "- What data are you actually getting?\n",
    "\n",
    "Always checking these three, even if you think you know what you've got, can save you alot of trouble and reassure your way of thinking."
   ]
  },
  {
   "cell_type": "code",
   "execution_count": 40,
   "metadata": {},
   "outputs": [
    {
     "name": "stdout",
     "output_type": "stream",
     "text": [
      "<class 'numpy.ndarray'>\n",
      "(10102, 12)\n",
      "[3.5163629e-04 2.6183114e-03 1.8488441e-01 8.0643678e-01 1.5516784e-05\n",
      " 1.1606327e-05 2.6408462e-03 6.4246313e-05 1.4864680e-03 9.9873240e-04\n",
      " 1.1137000e-06 4.9026223e-04]\n"
     ]
    }
   ],
   "source": [
    "print(type(preds_val))\n",
    "print(preds_val.shape)\n",
    "print(preds_val[0])"
   ]
  },
  {
   "cell_type": "code",
   "execution_count": 71,
   "metadata": {},
   "outputs": [
    {
     "name": "stdout",
     "output_type": "stream",
     "text": [
      "9415 out of 10102 correct, resulting in an accuracy of 93.19936646208672\n",
      "\n",
      "4146 out of 4890 correct, resulting in an accuracy of 84.78527607361963\n",
      "\n"
     ]
    }
   ],
   "source": [
    "calc_acc(preds_val, dataset_validation)\n",
    "calc_acc(preds_test, dataset_test)"
   ]
  },
  {
   "cell_type": "code",
   "execution_count": 143,
   "metadata": {},
   "outputs": [
    {
     "name": "stdout",
     "output_type": "stream",
     "text": [
      "406 out of 4890 correct, resulting in an accuracy of 8.302658486707566\n"
     ]
    }
   ],
   "source": [
    "import random\n",
    "total = 0\n",
    "correct = 0\n",
    "\n",
    "for target in y_test_trans:\n",
    "    total += 1\n",
    "    pred_idx = random.randrange(0, 11)\n",
    "    #print(pred_idx)\n",
    "    if target[pred_idx]==1:\n",
    "        correct += 1\n",
    "\n",
    "print(\"{} out of {} correct, resulting in an accuracy of {}\".format(correct, total, (correct/total)*100))"
   ]
  },
  {
   "cell_type": "code",
   "execution_count": null,
   "metadata": {},
   "outputs": [],
   "source": [
    "\"\"\" Further train the model with validaton set \"\"\""
   ]
  },
  {
   "cell_type": "markdown",
   "metadata": {},
   "source": [
    "## Tf-Lite Conversion and Quantization\n",
    "\n",
    "We're now in the postition to convert our model to tflite format, which greatly reduces its size. We also want to quantize it, bringing the weights from float32 to int16. This comes with a reduction in accuracy, but needs to be done if we want to run the model on an tpu, like google corals tpu-accelerator.\n",
    "\n",
    "#### A Note:\n",
    "We're using post-training quantization, which reduces the precision of a models weights from float to int. While this is quick, the model potentially loses a good amout of accuracy. This can be combated by using a quantization aware training approach. Here, fake quantization nodes are introduced which help the model to compensate for the information loss of quantization. \n",
    "\n",
    "Quantization aware training usually increases the training time, which is why we refrained from it. It would be  easy to implement nonetheless, using following lines before the training process.\n",
    "\n",
    "import tensorflow_model_optimization as tfmot\n",
    "qat_model = tfmot.quantization.keras.quantize_model(your_keras_model)\n",
    "\n"
   ]
  },
  {
   "cell_type": "code",
   "execution_count": 56,
   "metadata": {},
   "outputs": [
    {
     "name": "stdout",
     "output_type": "stream",
     "text": [
      "INFO:tensorflow:Assets written to: /var/folders/mx/q84y7s0d107182d1vknn_rmh0000gn/T/tmpj3oj6969/assets\n"
     ]
    },
    {
     "name": "stderr",
     "output_type": "stream",
     "text": [
      "INFO:tensorflow:Assets written to: /var/folders/mx/q84y7s0d107182d1vknn_rmh0000gn/T/tmpj3oj6969/assets\n"
     ]
    }
   ],
   "source": [
    "\"\"\"Tensorflow lite converter\"\"\"\n",
    "\n",
    "#\n",
    "#\n",
    "#ToDo: \n",
    "# Full interger quantization\n",
    "#https://www.tensorflow.org/lite/performance/post_training_integer_quant?hl=en#convert_using_integer-only_quantization\n",
    "#https://www.tensorflow.org/lite/performance/post_training_quantization?hl=en\n",
    "#\n",
    "# useful link: https://towardsdatascience.com/a-tale-of-model-quantization-in-tf-lite-aebe09f255ca\n",
    "\n",
    "import tensorflow.lite as lite\n",
    "from tensorflow import keras\n",
    "model = keras.models.load_model('model_4.hdf5')\n",
    "\n",
    "converter = lite.TFLiteConverter.from_keras_model(model)\n",
    "# This\n",
    "converter.optimizations = [tf.lite.Optimize.DEFAULT]\n",
    "tflite_model = converter.convert()\n",
    "\n"
   ]
  },
  {
   "cell_type": "code",
   "execution_count": 25,
   "metadata": {},
   "outputs": [
    {
     "name": "stdout",
     "output_type": "stream",
     "text": [
      "INFO:tensorflow:Assets written to: /var/folders/mx/q84y7s0d107182d1vknn_rmh0000gn/T/tmpn77kplom/assets\n"
     ]
    },
    {
     "name": "stderr",
     "output_type": "stream",
     "text": [
      "INFO:tensorflow:Assets written to: /var/folders/mx/q84y7s0d107182d1vknn_rmh0000gn/T/tmpn77kplom/assets\n"
     ]
    }
   ],
   "source": [
    "\"\"\"\n",
    "But wait! We only converted weights to int, but not the input and output nodes! \n",
    "We need some additional limes for this...\n",
    "We need a representative dataset because it \"(..) can be used to evaluate optimizations by the converter. \n",
    "E.g. converter can use these examples to estimate (min, max) ranges by calibrating the model on inputs.\" Yep.\n",
    "\"\"\"\n",
    "import tensorflow.lite as lite\n",
    "from tensorflow import keras\n",
    "model = keras.models.load_model('model_4.hdf5')\n",
    "\n",
    "def representative_data_gen():\n",
    "    for input_value in dataset_test.take(100):\n",
    "        # Remember, we get a tuple of (audio, label) tensors, also we added an additional dimension to it, so...\n",
    "        #in_val = tf.squeeze(input_value[0], axis=0)\n",
    "        #print(type(in_val), in_val.shape)\n",
    "        yield [input_value[0]]\n",
    "        #yield [in_val]\n",
    "        \n",
    "converter = lite.TFLiteConverter.from_keras_model(model)\n",
    "converter.optimizations = [tf.lite.Optimize.DEFAULT]\n",
    "# \n",
    "converter.representative_dataset = representative_data_gen\n",
    "# Ensure that if any ops can't be quantized, the converter throws an error\n",
    "converter.target_spec.supported_ops = [tf.lite.OpsSet.TFLITE_BUILTINS_INT8]\n",
    "# Set the input and output tensors to uint8 (APIs added in r2.3)\n",
    "converter.inference_input_type = tf.uint8\n",
    "converter.inference_output_type = tf.uint8\n",
    "\n",
    "tflite_model_quant = converter.convert()"
   ]
  },
  {
   "cell_type": "code",
   "execution_count": 26,
   "metadata": {},
   "outputs": [],
   "source": [
    "# Save the model. TODO: print size of normal and lite model\n",
    "with open('model_full_ints.tflite', 'wb') as f:\n",
    "    f.write(tflite_model_quant)"
   ]
  },
  {
   "cell_type": "code",
   "execution_count": null,
   "metadata": {},
   "outputs": [],
   "source": []
  }
 ],
 "metadata": {
  "kernelspec": {
   "display_name": "keywords2",
   "language": "python",
   "name": "keywords2"
  },
  "language_info": {
   "codemirror_mode": {
    "name": "ipython",
    "version": 3
   },
   "file_extension": ".py",
   "mimetype": "text/x-python",
   "name": "python",
   "nbconvert_exporter": "python",
   "pygments_lexer": "ipython3",
   "version": "3.7.4"
  }
 },
 "nbformat": 4,
 "nbformat_minor": 4
}
